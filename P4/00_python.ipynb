{
 "cells": [
  {
   "cell_type": "markdown",
   "id": "9a81e082-3afb-40d2-8250-5995ba5e188b",
   "metadata": {},
   "source": [
    "# Python\n",
    "- 컴퓨터의 CPU, RAM, SSD를 활용하기 위해서 학습\n",
    "1. 변수선언 : RAM 사용 문법 : 식별자(저장공간을 구분하는 문자열) :PEP20, PEP8(autopep8, flake8)\n",
    "2. 데이터타입 : RAM 효율적 사용 문법 : int, float, bool, str, list, tuple, dict, set\n",
    "3. 연산자 : CPU 사용 문법 : 산술, 비교, 논리, 할당, 멤버 ...\n",
    "4. 조건문, 반복문 : if, elif, else : while, for, break, continue, range() ...\n",
    "5. 함수 : 반복 사용되는 코드를 묶어서 코드 작성 실행 : def, return, scope(global), lambda ...\n",
    "6. 클래스 : 변수, 함수를 묶어서 코드 작성 실행 : 객체지향 구현 : class, self, special method(생성자)\n",
    "7. 모듈 : 변수, 함수, 클래스를 파일로 묶어서 코드 작성 실행 : 확장자 .py\n",
    "8. 패키지 : 여러개의 모듈을 디렉토리로 묶어서 관리 : 버전정보 : import, from, as\n",
    "9. 입출력 : SSD 사용 문법 : RAM(object) > SSD(file), SSD(file) > RAM(object) : pickle"
   ]
  },
  {
   "cell_type": "code",
   "execution_count": 1,
   "id": "204544bc-f511-462c-b17c-e45648d7b662",
   "metadata": {
    "scrolled": true
   },
   "outputs": [
    {
     "name": "stdout",
     "output_type": "stream",
     "text": [
      "The Zen of Python, by Tim Peters\n",
      "\n",
      "Beautiful is better than ugly.\n",
      "Explicit is better than implicit.\n",
      "Simple is better than complex.\n",
      "Complex is better than complicated.\n",
      "Flat is better than nested.\n",
      "Sparse is better than dense.\n",
      "Readability counts.\n",
      "Special cases aren't special enough to break the rules.\n",
      "Although practicality beats purity.\n",
      "Errors should never pass silently.\n",
      "Unless explicitly silenced.\n",
      "In the face of ambiguity, refuse the temptation to guess.\n",
      "There should be one-- and preferably only one --obvious way to do it.\n",
      "Although that way may not be obvious at first unless you're Dutch.\n",
      "Now is better than never.\n",
      "Although never is often better than *right* now.\n",
      "If the implementation is hard to explain, it's a bad idea.\n",
      "If the implementation is easy to explain, it may be a good idea.\n",
      "Namespaces are one honking great idea -- let's do more of those!\n"
     ]
    }
   ],
   "source": [
    "import this"
   ]
  },
  {
   "cell_type": "markdown",
   "id": "5d37dd90-c42d-4394-ae96-e487e2a6688a",
   "metadata": {},
   "source": [
    "# Class\n",
    "- 변수, 함수를 묶어서 코드 작성 및 실행\n",
    "- 객체지향 구현 : 실제세계를 모델링하여 프로그램을 개발하는 개발 방법론 : 협업이 용이함\n",
    "- 함수사용 : 함수선언(코드작성) > 함수호출(코드실행)\n",
    "- 클래스사용\n",
    "      -클래스선언(코드작성:설계도작성) > 객체생성(메모리사용:제품생산) > 메서드실행(코드실행:제품사용)\n",
    "      -메서드 : 클래스 안에 선언되는 함수\n",
    "- class 식별자 : UpperCamelCase, PascalCase(O), snake_case(X:변수,함수)"
   ]
  },
  {
   "cell_type": "code",
   "execution_count": 7,
   "id": "1599405f-0471-4ff7-8173-66469431bb6b",
   "metadata": {},
   "outputs": [],
   "source": [
    "# 1. 클래스선언 : 코드작성\n",
    "# 예금계좌 : Account : balance, deposit(), withdraw()\n",
    "class Account:\n",
    "    \n",
    "    balance = 0\n",
    "    \n",
    "    def deposit(self, amount):\n",
    "        self.balance += amount\n",
    "        \n",
    "    def withdraw(self, amount):\n",
    "        self.balance -= amount"
   ]
  },
  {
   "cell_type": "code",
   "execution_count": 10,
   "id": "66fe7ed5-b105-47da-8649-bc53898b851e",
   "metadata": {},
   "outputs": [],
   "source": [
    "# 2. 객체생성 : 메모리사용\n",
    "acc1 = Account()\n",
    "acc2 = Account()"
   ]
  },
  {
   "cell_type": "code",
   "execution_count": 18,
   "id": "8d2aa547-fed3-4205-b7ce-286d2c597e5a",
   "metadata": {},
   "outputs": [
    {
     "data": {
      "text/plain": [
       "(['balance', 'deposit', 'withdraw'], ['balance', 'deposit', 'withdraw'])"
      ]
     },
     "execution_count": 18,
     "metadata": {},
     "output_type": "execute_result"
    }
   ],
   "source": [
    "# dir() : 객체 안에 들어있는 변수, 함수 목록 출력\n",
    "dir(acc1)[-3:], dir(acc2)[-3:]"
   ]
  },
  {
   "cell_type": "code",
   "execution_count": 20,
   "id": "f3ed889d-05be-41b9-9f1f-a84718532f30",
   "metadata": {},
   "outputs": [],
   "source": [
    "acc1.balance = 1000"
   ]
  },
  {
   "cell_type": "code",
   "execution_count": 22,
   "id": "9954b559-5c8e-4ed2-913f-6dc16b0c60e3",
   "metadata": {},
   "outputs": [
    {
     "data": {
      "text/plain": [
       "(1000, 0)"
      ]
     },
     "execution_count": 22,
     "metadata": {},
     "output_type": "execute_result"
    }
   ],
   "source": [
    "acc1.balance, acc2.balance"
   ]
  },
  {
   "cell_type": "code",
   "execution_count": null,
   "id": "efec812c-325e-48ce-b88a-813ad62c444a",
   "metadata": {},
   "outputs": [],
   "source": [
    "# 3. 메서드실행 : 코드실행"
   ]
  },
  {
   "cell_type": "code",
   "execution_count": 24,
   "id": "feffbeca-d0ac-44ab-a43f-5655ed627f26",
   "metadata": {},
   "outputs": [],
   "source": [
    "acc1.withdraw(600)\n",
    "acc2.deposit(3000)"
   ]
  },
  {
   "cell_type": "code",
   "execution_count": 26,
   "id": "7988738b-75d9-4653-a8a7-6b069b83f686",
   "metadata": {},
   "outputs": [
    {
     "data": {
      "text/plain": [
       "(400, 3000)"
      ]
     },
     "execution_count": 26,
     "metadata": {},
     "output_type": "execute_result"
    }
   ],
   "source": [
    "acc1.balance, acc2.balance"
   ]
  },
  {
   "cell_type": "code",
   "execution_count": null,
   "id": "aa0d202b-5d8c-4000-8e57-668e22652ceb",
   "metadata": {},
   "outputs": [],
   "source": [
    "# pandas DataFrame\n",
    "# 클래스선언(다른사람) > 객체생성(사용1) > 메서드호출(사용2)"
   ]
  },
  {
   "cell_type": "code",
   "execution_count": 28,
   "id": "9b08f0fd-60f6-4844-9717-f37f23e54552",
   "metadata": {},
   "outputs": [],
   "source": [
    "# 1. 클래스선언 : 다른 사람이 만든 클래스 가져옴\n",
    "import pandas as pd"
   ]
  },
  {
   "cell_type": "code",
   "execution_count": 30,
   "id": "b7169209-93b3-4b3c-ad78-38793797a900",
   "metadata": {
    "scrolled": true
   },
   "outputs": [
    {
     "data": {
      "text/html": [
       "<div>\n",
       "<style scoped>\n",
       "    .dataframe tbody tr th:only-of-type {\n",
       "        vertical-align: middle;\n",
       "    }\n",
       "\n",
       "    .dataframe tbody tr th {\n",
       "        vertical-align: top;\n",
       "    }\n",
       "\n",
       "    .dataframe thead th {\n",
       "        text-align: right;\n",
       "    }\n",
       "</style>\n",
       "<table border=\"1\" class=\"dataframe\">\n",
       "  <thead>\n",
       "    <tr style=\"text-align: right;\">\n",
       "      <th></th>\n",
       "      <th>id</th>\n",
       "      <th>name</th>\n",
       "    </tr>\n",
       "  </thead>\n",
       "  <tbody>\n",
       "    <tr>\n",
       "      <th>0</th>\n",
       "      <td>1</td>\n",
       "      <td>A</td>\n",
       "    </tr>\n",
       "    <tr>\n",
       "      <th>1</th>\n",
       "      <td>2</td>\n",
       "      <td>B</td>\n",
       "    </tr>\n",
       "    <tr>\n",
       "      <th>2</th>\n",
       "      <td>3</td>\n",
       "      <td>C</td>\n",
       "    </tr>\n",
       "  </tbody>\n",
       "</table>\n",
       "</div>"
      ],
      "text/plain": [
       "  id name\n",
       "0  1    A\n",
       "1  2    B\n",
       "2  3    C"
      ]
     },
     "execution_count": 30,
     "metadata": {},
     "output_type": "execute_result"
    }
   ],
   "source": [
    "# 2. 객체생성\n",
    "df = pd.DataFrame({'id': list('123'), 'name': list('ABC')})\n",
    "df"
   ]
  },
  {
   "cell_type": "code",
   "execution_count": 38,
   "id": "dde08387-5117-42a8-8dae-e1a2cbd6e2a3",
   "metadata": {},
   "outputs": [
    {
     "data": {
      "text/plain": [
       "id      123\n",
       "name    ABC\n",
       "dtype: object"
      ]
     },
     "execution_count": 38,
     "metadata": {},
     "output_type": "execute_result"
    }
   ],
   "source": [
    "# 3. 메서드호출\n",
    "#dif(df)\n",
    "#help(df.sum)\n",
    "df.sum()"
   ]
  },
  {
   "cell_type": "code",
   "execution_count": 40,
   "id": "a504f2b8-7881-4cd5-82d3-549a645f3873",
   "metadata": {},
   "outputs": [
    {
     "data": {
      "text/html": [
       "<div>\n",
       "<style scoped>\n",
       "    .dataframe tbody tr th:only-of-type {\n",
       "        vertical-align: middle;\n",
       "    }\n",
       "\n",
       "    .dataframe tbody tr th {\n",
       "        vertical-align: top;\n",
       "    }\n",
       "\n",
       "    .dataframe thead th {\n",
       "        text-align: right;\n",
       "    }\n",
       "</style>\n",
       "<table border=\"1\" class=\"dataframe\">\n",
       "  <thead>\n",
       "    <tr style=\"text-align: right;\">\n",
       "      <th></th>\n",
       "      <th>0</th>\n",
       "      <th>1</th>\n",
       "      <th>2</th>\n",
       "    </tr>\n",
       "  </thead>\n",
       "  <tbody>\n",
       "    <tr>\n",
       "      <th>id</th>\n",
       "      <td>1</td>\n",
       "      <td>2</td>\n",
       "      <td>3</td>\n",
       "    </tr>\n",
       "    <tr>\n",
       "      <th>name</th>\n",
       "      <td>A</td>\n",
       "      <td>B</td>\n",
       "      <td>C</td>\n",
       "    </tr>\n",
       "  </tbody>\n",
       "</table>\n",
       "</div>"
      ],
      "text/plain": [
       "      0  1  2\n",
       "id    1  2  3\n",
       "name  A  B  C"
      ]
     },
     "execution_count": 40,
     "metadata": {},
     "output_type": "execute_result"
    }
   ],
   "source": [
    "df.T"
   ]
  },
  {
   "cell_type": "code",
   "execution_count": null,
   "id": "1c38fc70-188b-48eb-af7e-0064ffd9c4ae",
   "metadata": {},
   "outputs": [],
   "source": [
    "# 변수, 함수는 둘다 객체입니다.\n",
    "# 클래스는 사용자정의 데이터타입 입니다."
   ]
  },
  {
   "cell_type": "code",
   "execution_count": 42,
   "id": "d90f45ff-9f25-4177-b309-7b28c9cc6bff",
   "metadata": {},
   "outputs": [
    {
     "data": {
      "text/plain": [
       "__main__.Account"
      ]
     },
     "execution_count": 42,
     "metadata": {},
     "output_type": "execute_result"
    }
   ],
   "source": [
    "# acc 객체 클래스 : Account : balance, withdraw(), diposit()\n",
    "# acc 객체 데이터타입 : Account\n",
    "# > 클래스는 데이터타입 입니다.\n",
    "# Account 클래스는 우리가 만듦 : 사용자정의\n",
    "# > 클래스는 사용자정의 데이터타입 입니다.\n",
    "acc = Account()\n",
    "type(acc)"
   ]
  },
  {
   "cell_type": "code",
   "execution_count": 56,
   "id": "c4af0fd3-bbe4-4a61-bc1a-ca9e8f3fdea6",
   "metadata": {},
   "outputs": [
    {
     "data": {
      "text/plain": [
       "str"
      ]
     },
     "execution_count": 56,
     "metadata": {},
     "output_type": "execute_result"
    }
   ],
   "source": [
    "# data1 객체 데이터타입 : str\n",
    "# data1 객체 클래스 : str : upper(), lower(), join() ...\n",
    "data1 = 'python'\n",
    "type(data1)"
   ]
  },
  {
   "cell_type": "code",
   "execution_count": 58,
   "id": "5a51e4d2-9581-4740-971d-63a83e3eb162",
   "metadata": {},
   "outputs": [],
   "source": [
    "#dir(data1)"
   ]
  },
  {
   "cell_type": "code",
   "execution_count": 60,
   "id": "988198ee-f79e-48b1-aba0-988cc9515dd6",
   "metadata": {},
   "outputs": [
    {
     "name": "stdout",
     "output_type": "stream",
     "text": [
      "Help on built-in function upper:\n",
      "\n",
      "upper() method of builtins.str instance\n",
      "    Return a copy of the string converted to uppercase.\n",
      "\n"
     ]
    }
   ],
   "source": [
    "help(data1.upper)"
   ]
  },
  {
   "cell_type": "code",
   "execution_count": 62,
   "id": "0a9caadf-6494-437e-a1aa-308bb5d9dcb5",
   "metadata": {},
   "outputs": [
    {
     "data": {
      "text/plain": [
       "list"
      ]
     },
     "execution_count": 62,
     "metadata": {},
     "output_type": "execute_result"
    }
   ],
   "source": [
    "# data2 객체 데이터타입, 클래스 : list\n",
    "data2 = [1, 3, 2]\n",
    "type(data2)"
   ]
  },
  {
   "cell_type": "code",
   "execution_count": 64,
   "id": "20f535c0-5061-45a6-9f54-e933e6c31247",
   "metadata": {},
   "outputs": [],
   "source": [
    "#dir(data2)"
   ]
  },
  {
   "cell_type": "code",
   "execution_count": 66,
   "id": "862670cf-64ec-4d03-9b18-f7e0b59cff55",
   "metadata": {},
   "outputs": [
    {
     "name": "stdout",
     "output_type": "stream",
     "text": [
      "Help on built-in function sort:\n",
      "\n",
      "sort(*, key=None, reverse=False) method of builtins.list instance\n",
      "    Sort the list in ascending order and return None.\n",
      "\n",
      "    The sort is in-place (i.e. the list itself is modified) and stable (i.e. the\n",
      "    order of two equal elements is maintained).\n",
      "\n",
      "    If a key function is given, apply it once to each list item and sort them,\n",
      "    ascending or descending, according to their function values.\n",
      "\n",
      "    The reverse flag can be set to sort in descending order.\n",
      "\n"
     ]
    }
   ],
   "source": [
    "help(data2.sort)"
   ]
  },
  {
   "cell_type": "code",
   "execution_count": null,
   "id": "eabae4bf-78ff-4b85-9743-cba3d30731ec",
   "metadata": {},
   "outputs": [],
   "source": [
    "# > 객체는 어떤 데이터타입(클래스)인지에 따라서 사용가능한 변수, 매서드가 달라집니다."
   ]
  },
  {
   "cell_type": "code",
   "execution_count": 76,
   "id": "cbd8a680-2e2b-4df4-b7b4-a62631ba1224",
   "metadata": {},
   "outputs": [
    {
     "name": "stdin",
     "output_type": "stream",
     "text": [
      "Once deleted, variables cannot be recovered. Proceed (y/[n])?  n\n"
     ]
    },
    {
     "name": "stdout",
     "output_type": "stream",
     "text": [
      "Nothing done.\n"
     ]
    }
   ],
   "source": [
    "%reset\n",
    "#현재 선언된 변수 초기화"
   ]
  },
  {
   "cell_type": "code",
   "execution_count": 68,
   "id": "06d0ba4f-c1c0-40b3-aedf-6b07f51c3025",
   "metadata": {},
   "outputs": [],
   "source": [
    "# 변수, 함수는 둘다 객체입니다.\n",
    "data = 1"
   ]
  },
  {
   "cell_type": "code",
   "execution_count": 70,
   "id": "744c2961-72e7-4db8-867e-fc5560b4d7cd",
   "metadata": {},
   "outputs": [],
   "source": [
    "def plus():\n",
    "    return 1 + 2"
   ]
  },
  {
   "cell_type": "code",
   "execution_count": 72,
   "id": "8c1b2bd2-a794-4d8d-9a5d-78341b75f68c",
   "metadata": {},
   "outputs": [
    {
     "data": {
      "text/plain": [
       "(int, function)"
      ]
     },
     "execution_count": 72,
     "metadata": {},
     "output_type": "execute_result"
    }
   ],
   "source": [
    "type(data), type(plus)"
   ]
  },
  {
   "cell_type": "code",
   "execution_count": 78,
   "id": "e6d0814e-dcc2-4d18-8c2a-4ebd62f9d61b",
   "metadata": {},
   "outputs": [
    {
     "name": "stdout",
     "output_type": "stream",
     "text": [
      "Variable               Type         Data/Info\n",
      "---------------------------------------------\n",
      "Account                type         <class '__main__.Account'>\n",
      "acc                    Account      <__main__.Account object at 0x00000252AB6D6750>\n",
      "acc1                   Account      <__main__.Account object at 0x00000252A9EED400>\n",
      "acc2                   Account      <__main__.Account object at 0x00000252A9244230>\n",
      "data                   int          1\n",
      "data1                  str          python\n",
      "data2                  list         n=3\n",
      "dataframe_columns      function     <function dataframe_colum<...>ns at 0x00000252A8D7A840>\n",
      "dataframe_hash         function     <function dataframe_hash at 0x00000252AA493B00>\n",
      "df                     DataFrame      id name\\n0  1    A\\n1  2    B\\n2  3    C\n",
      "dtypes_str             function     <function dtypes_str at 0x00000252AA492020>\n",
      "get_dataframes         function     <function get_dataframes at 0x00000252A8D7AE80>\n",
      "getpass                module       <module 'getpass' from 'C<...>conda3\\\\Lib\\\\getpass.py'>\n",
      "hashlib                module       <module 'hashlib' from 'C<...>conda3\\\\Lib\\\\hashlib.py'>\n",
      "import_pandas_safely   function     <function import_pandas_s<...>ly at 0x00000252AB5B2C00>\n",
      "is_data_frame          function     <function is_data_frame at 0x00000252AB5B1F80>\n",
      "json                   module       <module 'json' from 'C:\\\\<...>\\Lib\\\\json\\\\__init__.py'>\n",
      "pd                     module       <module 'pandas' from 'C:<...>es\\\\pandas\\\\__init__.py'>\n",
      "plus                   function     <function plus at 0x00000252AA493560>\n",
      "this                   module       <module 'this' from 'C:\\\\<...>anaconda3\\\\Lib\\\\this.py'>\n"
     ]
    }
   ],
   "source": [
    "%whos\n",
    "# 현재 선언된 객체 목록 출력"
   ]
  },
  {
   "cell_type": "code",
   "execution_count": null,
   "id": "bf1cb0a6-f611-4efb-8787-c4562f068996",
   "metadata": {},
   "outputs": [],
   "source": [
    "# speical methods\n",
    "# -특별한 기능을 하는 메서드\n",
    "# -앞뒤로 __가 붙은 메서드\n",
    "# -대표적으로 생성자 메서드"
   ]
  },
  {
   "cell_type": "code",
   "execution_count": null,
   "id": "2ca65983-98e1-4cbb-aef7-bf555a88b84c",
   "metadata": {},
   "outputs": [],
   "source": [
    "# 생성자 메서드 : __init__(self)\n",
    "# - 특별한 기능 : 객체 생성시 실행되는 메서드"
   ]
  },
  {
   "cell_type": "code",
   "execution_count": 94,
   "id": "17f76c75-770e-426e-bef6-7c444f4a3767",
   "metadata": {},
   "outputs": [],
   "source": [
    "# 클래스 선언\n",
    "class Account:\n",
    "    # 생성자 메서드 : 메서드에서 사용되는 변수의 초기값 설정하는 용도\n",
    "    def __init__(self, balance):\n",
    "        self.balance = balance\n",
    "    \n",
    "    def deposit(self, amount):\n",
    "        self.balance += amount\n",
    "        \n",
    "    def withdraw(self, amount):\n",
    "        self.balance -= amount"
   ]
  },
  {
   "cell_type": "code",
   "execution_count": 100,
   "id": "88cdf0f3-eb1d-456d-ae4f-6df40cac6623",
   "metadata": {},
   "outputs": [],
   "source": [
    "# 객체생성 : 메모리사용 : 원자제사용\n",
    "acc = Account(1000)"
   ]
  },
  {
   "cell_type": "code",
   "execution_count": 102,
   "id": "d78a1bde-c222-4a19-b5b8-ecd75089bed7",
   "metadata": {},
   "outputs": [],
   "source": [
    "# 메서드호출 : 불량품 생산\n",
    "acc.deposit(1000)"
   ]
  },
  {
   "cell_type": "code",
   "execution_count": 104,
   "id": "1bf2f6d9-a8d6-4369-954b-984b9622db59",
   "metadata": {},
   "outputs": [
    {
     "data": {
      "text/plain": [
       "2000"
      ]
     },
     "execution_count": 104,
     "metadata": {},
     "output_type": "execute_result"
    }
   ],
   "source": [
    "acc.balance"
   ]
  },
  {
   "cell_type": "code",
   "execution_count": 106,
   "id": "a3b9a7ae-c5a1-42b8-92bd-e052b7c81450",
   "metadata": {},
   "outputs": [],
   "source": [
    "# mangling(private variable), getter, setter 내용을 같이 참고"
   ]
  },
  {
   "cell_type": "code",
   "execution_count": 108,
   "id": "d224fb6f-da44-4df2-986d-d843518a31dc",
   "metadata": {},
   "outputs": [],
   "source": [
    "d1, d2 = 1, 2\n",
    "d3, d4 = '3', '4'"
   ]
  },
  {
   "cell_type": "code",
   "execution_count": 110,
   "id": "95658bda-bbeb-4c28-8533-5a9fad2c2db8",
   "metadata": {},
   "outputs": [
    {
     "data": {
      "text/plain": [
       "(int, int, str, str)"
      ]
     },
     "execution_count": 110,
     "metadata": {},
     "output_type": "execute_result"
    }
   ],
   "source": [
    "type(d1), type(d2), type(d3), type(d4)"
   ]
  },
  {
   "cell_type": "code",
   "execution_count": 114,
   "id": "f0153d54-a6bb-461f-a38c-13c236b40658",
   "metadata": {},
   "outputs": [
    {
     "data": {
      "text/plain": [
       "(3, '34')"
      ]
     },
     "execution_count": 114,
     "metadata": {},
     "output_type": "execute_result"
    }
   ],
   "source": [
    "# 데이터 타입이 다르면 같은 연산자라도 다르게 연산 수행이 됩니다.\n",
    "d1 + d2, d3 + d4"
   ]
  },
  {
   "cell_type": "code",
   "execution_count": 120,
   "id": "cc37ba79-8339-4564-91da-e237c55c40f1",
   "metadata": {},
   "outputs": [
    {
     "data": {
      "text/plain": [
       "3"
      ]
     },
     "execution_count": 120,
     "metadata": {},
     "output_type": "execute_result"
    }
   ],
   "source": [
    "# __add__ : +연산자에 대한 코드 정의\n",
    "# dir(d1)\n",
    "d1.__add__(d2) # int 클래스의 __add__() 메서드 호출"
   ]
  },
  {
   "cell_type": "code",
   "execution_count": 124,
   "id": "bc6987ff-4944-4ccb-a465-75d228dd1da6",
   "metadata": {},
   "outputs": [
    {
     "data": {
      "text/plain": [
       "'34'"
      ]
     },
     "execution_count": 124,
     "metadata": {},
     "output_type": "execute_result"
    }
   ],
   "source": [
    "#dir(d3)\n",
    "d3.__add__(d4) # str 클래스의 __add__() 메서드 호출"
   ]
  },
  {
   "cell_type": "code",
   "execution_count": 130,
   "id": "856a0a19-2b5e-45e9-b440-f8f6edc80f77",
   "metadata": {},
   "outputs": [],
   "source": [
    "class Number:\n",
    "    def __init__(self, data):\n",
    "        self.data = data\n",
    "    def __add__(self, obj):\n",
    "        self.data -= obj.data\n",
    "        return self.data"
   ]
  },
  {
   "cell_type": "code",
   "execution_count": 132,
   "id": "12b090e1-2be1-4334-8765-7901eb882a7c",
   "metadata": {},
   "outputs": [],
   "source": [
    "num1 = Number(3)\n",
    "num2 = Number(2)"
   ]
  },
  {
   "cell_type": "code",
   "execution_count": 134,
   "id": "ffa14c2e-60ba-4ecf-b9b7-423063cf89e7",
   "metadata": {},
   "outputs": [
    {
     "data": {
      "text/plain": [
       "1"
      ]
     },
     "execution_count": 134,
     "metadata": {},
     "output_type": "execute_result"
    }
   ],
   "source": [
    "num1 + num2 # num1.__add__(num2) : num1 객체의 __add__ 메서드 호출 num2 는 파라미터로 들어감"
   ]
  },
  {
   "cell_type": "code",
   "execution_count": null,
   "id": "a9ac903e-cc62-4306-a814-159b7536f789",
   "metadata": {},
   "outputs": [],
   "source": []
  }
 ],
 "metadata": {
  "kernelspec": {
   "display_name": "Python 3 (ipykernel)",
   "language": "python",
   "name": "python3"
  },
  "language_info": {
   "codemirror_mode": {
    "name": "ipython",
    "version": 3
   },
   "file_extension": ".py",
   "mimetype": "text/x-python",
   "name": "python",
   "nbconvert_exporter": "python",
   "pygments_lexer": "ipython3",
   "version": "3.12.4"
  }
 },
 "nbformat": 4,
 "nbformat_minor": 5
}
