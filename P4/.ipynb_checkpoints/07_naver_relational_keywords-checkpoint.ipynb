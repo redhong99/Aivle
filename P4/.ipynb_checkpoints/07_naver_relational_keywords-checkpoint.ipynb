{
 "cells": [
  {
   "cell_type": "markdown",
   "id": "2f46af77",
   "metadata": {},
   "source": [
    "### 네이버 함께 많이 찾는 주제어 수집\n",
    "- 정적(static) 웹페이지 데이터 수집 \n",
    "- BeautifulSoup을 이용하여 HTML 문자열 데이터 parsing"
   ]
  },
  {
   "cell_type": "code",
   "execution_count": 1,
   "id": "b5d9233c-537d-47ac-bd70-b2b0e7a5c445",
   "metadata": {},
   "outputs": [
    {
     "name": "stderr",
     "output_type": "stream",
     "text": [
      "/opt/anaconda3/lib/python3.9/site-packages/requests/__init__.py:102: RequestsDependencyWarning: urllib3 (1.26.7) or chardet (5.0.0)/charset_normalizer (2.0.4) doesn't match a supported version!\n",
      "  warnings.warn(\"urllib3 ({}) or chardet ({})/charset_normalizer ({}) doesn't match a supported \"\n"
     ]
    }
   ],
   "source": [
    "import pandas as pd\n",
    "import requests\n",
    "from bs4 import BeautifulSoup"
   ]
  },
  {
   "cell_type": "markdown",
   "id": "16030538",
   "metadata": {},
   "source": [
    "#### 1. 웹페이지 분석 : URL"
   ]
  },
  {
   "cell_type": "code",
   "execution_count": 2,
   "id": "c1581d54",
   "metadata": {},
   "outputs": [],
   "source": [
    "url = 'https://search.naver.com/search.naver?query=삼성전자'"
   ]
  },
  {
   "cell_type": "markdown",
   "id": "56e6ea93",
   "metadata": {},
   "source": [
    "#### 2. request(URL) > response : str(html)"
   ]
  },
  {
   "cell_type": "code",
   "execution_count": 3,
   "id": "ceda1c7b",
   "metadata": {},
   "outputs": [
    {
     "data": {
      "text/plain": [
       "<Response [200]>"
      ]
     },
     "execution_count": 3,
     "metadata": {},
     "output_type": "execute_result"
    }
   ],
   "source": [
    "response = requests.get(url)\n",
    "response"
   ]
  },
  {
   "cell_type": "code",
   "execution_count": 6,
   "id": "f636414e-0592-4630-aee0-e2a9e29b212a",
   "metadata": {},
   "outputs": [
    {
     "data": {
      "text/plain": [
       "'<!doctype html> <html lang=\"ko\"><head> <meta charset=\"utf-8\"> <meta name=\"referrer\" content=\"always\"'"
      ]
     },
     "execution_count": 6,
     "metadata": {},
     "output_type": "execute_result"
    }
   ],
   "source": [
    "response.text[:100]"
   ]
  },
  {
   "cell_type": "markdown",
   "id": "1e2acb8e",
   "metadata": {},
   "source": [
    "#### 3. str(html) > bs object"
   ]
  },
  {
   "cell_type": "code",
   "execution_count": 9,
   "id": "8736bc68",
   "metadata": {},
   "outputs": [
    {
     "data": {
      "text/plain": [
       "bs4.BeautifulSoup"
      ]
     },
     "execution_count": 9,
     "metadata": {},
     "output_type": "execute_result"
    }
   ],
   "source": [
    "dom = BeautifulSoup(response.text, 'html.parser')\n",
    "type(dom)"
   ]
  },
  {
   "cell_type": "markdown",
   "id": "252cf193",
   "metadata": {},
   "source": [
    "#### 4. bs object > .select(css-selector), .select_one(css-selector) > str(text)"
   ]
  },
  {
   "cell_type": "code",
   "execution_count": 9,
   "id": "525c3274",
   "metadata": {},
   "outputs": [],
   "source": [
    "# select > list(Tag1, Tag2, ...), select_one > Tag"
   ]
  },
  {
   "cell_type": "code",
   "execution_count": null,
   "id": "53afef40-6b3d-4178-9baa-d2000c43c559",
   "metadata": {},
   "outputs": [],
   "source": [
    "#fdr-3cc830007e7f4fff826adfcbcbce616f > div > div > div.bAUlEC095ho5bG7U0km1.fds-grid-layout-keyword.fds-refine-query-grid > div:nth-child(1) > div:nth-child(1) > a"
   ]
  },
  {
   "cell_type": "code",
   "execution_count": 24,
   "id": "81eaa71c-acbd-4690-9029-82ad5b429529",
   "metadata": {},
   "outputs": [
    {
     "data": {
      "text/plain": [
       "(6,\n",
       " [<span class=\"fds-keyword-text EC6qOsUFAOwAI0C5oRtw\">삼성전자주가</span>,\n",
       "  <span class=\"fds-keyword-text EC6qOsUFAOwAI0C5oRtw\">오늘 삼성전자 주가</span>,\n",
       "  <span class=\"fds-keyword-text EC6qOsUFAOwAI0C5oRtw\">삼성전자주식가격</span>,\n",
       "  <span class=\"fds-keyword-text EC6qOsUFAOwAI0C5oRtw\">삼성전자 주식</span>,\n",
       "  <span class=\"fds-keyword-text EC6qOsUFAOwAI0C5oRtw\">삼성전자 주가 전망</span>,\n",
       "  <span class=\"fds-keyword-text EC6qOsUFAOwAI0C5oRtw\">삼성전자주식전망</span>])"
      ]
     },
     "execution_count": 24,
     "metadata": {},
     "output_type": "execute_result"
    }
   ],
   "source": [
    "elements = dom.select('.fds-refine-query-grid span')\n",
    "len(elements), elements"
   ]
  },
  {
   "cell_type": "markdown",
   "id": "1e9ebdd4",
   "metadata": {},
   "source": [
    "#### 5. str(text) > DataFrame"
   ]
  },
  {
   "cell_type": "code",
   "execution_count": 16,
   "id": "62e1ef05",
   "metadata": {},
   "outputs": [
    {
     "data": {
      "text/plain": [
       "'삼성전자주가'"
      ]
     },
     "execution_count": 16,
     "metadata": {},
     "output_type": "execute_result"
    }
   ],
   "source": [
    "elements[0].text"
   ]
  },
  {
   "cell_type": "code",
   "execution_count": 22,
   "id": "a2d9876c-ca40-4065-a1e7-ef738079b7cf",
   "metadata": {},
   "outputs": [
    {
     "data": {
      "text/plain": [
       "['삼성전자주가', '오늘 삼성전자 주가', '삼성전자주식가격', '삼성전자 주식', '삼성전자 주가 전망', '삼성전자주식전망']"
      ]
     },
     "execution_count": 22,
     "metadata": {},
     "output_type": "execute_result"
    }
   ],
   "source": [
    "[element.text for element in elements]"
   ]
  },
  {
   "cell_type": "code",
   "execution_count": null,
   "id": "1704c2b2-ed5a-4b8d-ab39-3916548a2f35",
   "metadata": {},
   "outputs": [],
   "source": [
    "# daum exchange : headers\n",
    "# naver restapi : application 등록 > key\n",
    "# zigbang : request > response : 3번\n",
    "# static page crawling : html > BeautifulSoup > css-selector : naver relational text"
   ]
  }
 ],
 "metadata": {
  "kernelspec": {
   "display_name": "Python 3 (ipykernel)",
   "language": "python",
   "name": "python3"
  },
  "language_info": {
   "codemirror_mode": {
    "name": "ipython",
    "version": 3
   },
   "file_extension": ".py",
   "mimetype": "text/x-python",
   "name": "python",
   "nbconvert_exporter": "python",
   "pygments_lexer": "ipython3",
   "version": "3.9.7"
  },
  "toc": {
   "base_numbering": 1,
   "nav_menu": {},
   "number_sections": false,
   "sideBar": true,
   "skip_h1_title": false,
   "title_cell": "Table of Contents",
   "title_sidebar": "Contents",
   "toc_cell": false,
   "toc_position": {},
   "toc_section_display": true,
   "toc_window_display": false
  }
 },
 "nbformat": 4,
 "nbformat_minor": 5
}
