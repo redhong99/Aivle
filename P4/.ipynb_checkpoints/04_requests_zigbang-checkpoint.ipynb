{
 "cells": [
  {
   "cell_type": "markdown",
   "id": "democratic-utility",
   "metadata": {},
   "source": [
    "### Zigbang 원룸 매물 데이터 수집"
   ]
  },
  {
   "cell_type": "code",
   "execution_count": 2,
   "id": "9affefe3",
   "metadata": {},
   "outputs": [
    {
     "name": "stderr",
     "output_type": "stream",
     "text": [
      "/opt/anaconda3/lib/python3.9/site-packages/requests/__init__.py:102: RequestsDependencyWarning: urllib3 (1.26.7) or chardet (5.0.0)/charset_normalizer (2.0.4) doesn't match a supported version!\n",
      "  warnings.warn(\"urllib3 ({}) or chardet ({})/charset_normalizer ({}) doesn't match a supported \"\n"
     ]
    }
   ],
   "source": [
    "import pandas as pd\n",
    "import requests"
   ]
  },
  {
   "cell_type": "markdown",
   "id": "whole-answer",
   "metadata": {},
   "source": [
    "#### Process\n",
    "    - 동이름으로 위도 경도 구하기\n",
    "    - 위도 경도로 geohash 알아내기\n",
    "    - geohash로 매물 아이디 가져오기\n",
    "    - 매물 아이디로 매물 정보 가져오기"
   ]
  },
  {
   "cell_type": "markdown",
   "id": "b98f0c6c",
   "metadata": {},
   "source": [
    "#### 1. 동이름으로 위도 경도 구하기"
   ]
  },
  {
   "cell_type": "code",
   "execution_count": 11,
   "id": "4e8d14a3",
   "metadata": {},
   "outputs": [
    {
     "data": {
      "text/plain": [
       "(37.399888637, 126.940783819)"
      ]
     },
     "execution_count": 11,
     "metadata": {},
     "output_type": "execute_result"
    }
   ],
   "source": [
    "addr = '비산동'\n",
    "url = f'https://apis.zigbang.com/v2/search?leaseYn=N&q={addr}&serviceType=원룸'\n",
    "response = requests.get(url)\n",
    "data = response.json()['items'][10]\n",
    "lat , lng = data['lat'], data['lng']\n",
    "lat, lng"
   ]
  },
  {
   "cell_type": "markdown",
   "id": "8dfada31",
   "metadata": {},
   "source": [
    "#### 2. 위도 경도로 geohash 알아내기"
   ]
  },
  {
   "cell_type": "code",
   "execution_count": 12,
   "id": "1d270ab4",
   "metadata": {},
   "outputs": [],
   "source": [
    "#pip install geohash2\n",
    "import geohash2"
   ]
  },
  {
   "cell_type": "code",
   "execution_count": 15,
   "id": "dca5de0f-4af1-43b4-92b5-3b4cd2d2ac73",
   "metadata": {},
   "outputs": [
    {
     "data": {
      "text/plain": [
       "'wydkb'"
      ]
     },
     "execution_count": 15,
     "metadata": {},
     "output_type": "execute_result"
    }
   ],
   "source": [
    "geohash = geohash2.encode(lat, lng, precision=5)\n",
    "geohash"
   ]
  },
  {
   "cell_type": "markdown",
   "id": "13e8b3f9",
   "metadata": {},
   "source": [
    "#### 3. geohash로 매물 아이디 가져오기"
   ]
  },
  {
   "cell_type": "code",
   "execution_count": 27,
   "id": "2ceb8ea4",
   "metadata": {
    "tags": []
   },
   "outputs": [
    {
     "data": {
      "text/plain": [
       "<Response [200]>"
      ]
     },
     "execution_count": 27,
     "metadata": {},
     "output_type": "execute_result"
    }
   ],
   "source": [
    "url = f'https://apis.zigbang.com/v2/items/oneroom?geohash={geohash}\\\n",
    "&depositMin=0&rentMin=0&salesTypes[0]=전세&salesTypes[1]=월세&domain=zigbang&checkAnyItemWithoutFilter=true'\n",
    "response = requests.get(url)\n",
    "response"
   ]
  },
  {
   "cell_type": "code",
   "execution_count": 28,
   "id": "2585a6dd-edc5-4b27-8cf9-2e558227902c",
   "metadata": {},
   "outputs": [
    {
     "data": {
      "text/plain": [
       "(93, [41890005, 41944069, 42135315, 42197671, 42227592])"
      ]
     },
     "execution_count": 28,
     "metadata": {},
     "output_type": "execute_result"
    }
   ],
   "source": [
    "item_ids = []\n",
    "for data in response.json()['items']:\n",
    "    item_ids.append(data['itemId'])\n",
    "len(item_ids), item_ids[:5]"
   ]
  },
  {
   "cell_type": "code",
   "execution_count": 26,
   "id": "916b8013-19e6-4675-93b6-cee0cd1fb949",
   "metadata": {},
   "outputs": [
    {
     "data": {
      "text/plain": [
       "93"
      ]
     },
     "execution_count": 26,
     "metadata": {},
     "output_type": "execute_result"
    }
   ],
   "source": [
    "item_ids = [data['itemId'] for data in response.json()['items']]\n",
    "len(item_ids)"
   ]
  },
  {
   "cell_type": "markdown",
   "id": "85225aae",
   "metadata": {},
   "source": [
    "#### 4. 매물 아이디로 매물 정보 가져오기"
   ]
  },
  {
   "cell_type": "code",
   "execution_count": 29,
   "id": "0212d892",
   "metadata": {},
   "outputs": [
    {
     "data": {
      "text/plain": [
       "<Response [200]>"
      ]
     },
     "execution_count": 29,
     "metadata": {},
     "output_type": "execute_result"
    }
   ],
   "source": [
    "url = 'https://apis.zigbang.com/v2/items/list'\n",
    "params = {'domain' : \"zigbang\", 'item_ids' : item_ids}\n",
    "response = requests.post(url, params)\n",
    "response"
   ]
  },
  {
   "cell_type": "code",
   "execution_count": 33,
   "id": "a163284f-aec7-468c-881f-6627165078a8",
   "metadata": {
    "tags": []
   },
   "outputs": [],
   "source": [
    "data = response.json()['items']\n",
    "df = pd.DataFrame(data)\n",
    "df = df[df['address1'].str.contains(addr)].reset_index(drop=True)\n",
    "df = df[['item_id', 'sales_title', 'deposit', 'rent', 'size_m2', 'floor', 'building_floor', 'title',\n",
    "        'manage_cost', 'address1']]"
   ]
  },
  {
   "cell_type": "code",
   "execution_count": 24,
   "id": "f39b4bb5-6ca2-4176-a476-ca9f84709038",
   "metadata": {},
   "outputs": [
    {
     "data": {
      "text/plain": [
       "Index(['item_id', 'section_type', 'images_thumbnail', 'sales_type',\n",
       "       'sales_title', 'deposit', 'rent', 'size_m2', '공급면적', '전용면적', '계약면적',\n",
       "       'room_type_title', 'floor', 'floor_string', 'building_floor', 'title',\n",
       "       'is_first_movein', 'room_type', 'status', 'tags', 'service_type',\n",
       "       'random_location', 'location', 'manage_cost', 'reg_date', 'is_new',\n",
       "       'addressOrigin', 'action', 'contract', 'address', 'is_zzim', 'address1',\n",
       "       'address2', 'address3', 'item_bm_type', 'isCleanLessor', 'zikim'],\n",
       "      dtype='object')"
      ]
     },
     "execution_count": 24,
     "metadata": {},
     "output_type": "execute_result"
    }
   ],
   "source": [
    "df.columns"
   ]
  },
  {
   "cell_type": "code",
   "execution_count": 25,
   "id": "35792660-57fe-42cd-9627-e27efe1e56ee",
   "metadata": {},
   "outputs": [],
   "source": [
    "# df 칼럼 전체 최대 출력\n",
    "pd.options.display.max_columns = 40"
   ]
  },
  {
   "cell_type": "code",
   "execution_count": 34,
   "id": "1834c7b2-d183-4af2-86c6-8c752d8159a7",
   "metadata": {},
   "outputs": [
    {
     "data": {
      "text/html": [
       "<div>\n",
       "<style scoped>\n",
       "    .dataframe tbody tr th:only-of-type {\n",
       "        vertical-align: middle;\n",
       "    }\n",
       "\n",
       "    .dataframe tbody tr th {\n",
       "        vertical-align: top;\n",
       "    }\n",
       "\n",
       "    .dataframe thead th {\n",
       "        text-align: right;\n",
       "    }\n",
       "</style>\n",
       "<table border=\"1\" class=\"dataframe\">\n",
       "  <thead>\n",
       "    <tr style=\"text-align: right;\">\n",
       "      <th></th>\n",
       "      <th>item_id</th>\n",
       "      <th>sales_title</th>\n",
       "      <th>deposit</th>\n",
       "      <th>rent</th>\n",
       "      <th>size_m2</th>\n",
       "      <th>floor</th>\n",
       "      <th>building_floor</th>\n",
       "      <th>title</th>\n",
       "      <th>manage_cost</th>\n",
       "      <th>address1</th>\n",
       "    </tr>\n",
       "  </thead>\n",
       "  <tbody>\n",
       "    <tr>\n",
       "      <th>11</th>\n",
       "      <td>42221242</td>\n",
       "      <td>월세</td>\n",
       "      <td>21000</td>\n",
       "      <td>19</td>\n",
       "      <td>39.00</td>\n",
       "      <td>5</td>\n",
       "      <td>26</td>\n",
       "      <td>첫입주, 1.5룸신축 풀옵션,버팀목대출가능</td>\n",
       "      <td>15</td>\n",
       "      <td>경기도 안양시 동안구 비산동</td>\n",
       "    </tr>\n",
       "    <tr>\n",
       "      <th>12</th>\n",
       "      <td>42156233</td>\n",
       "      <td>전세</td>\n",
       "      <td>13000</td>\n",
       "      <td>0</td>\n",
       "      <td>36.36</td>\n",
       "      <td>2</td>\n",
       "      <td>3</td>\n",
       "      <td>투룸. 도배, 장판, 씽크대 깔끔수리예정</td>\n",
       "      <td>0</td>\n",
       "      <td>경기도 안양시 동안구 비산동</td>\n",
       "    </tr>\n",
       "  </tbody>\n",
       "</table>\n",
       "</div>"
      ],
      "text/plain": [
       "     item_id sales_title  deposit  rent  size_m2 floor building_floor  \\\n",
       "11  42221242          월세    21000    19    39.00     5             26   \n",
       "12  42156233          전세    13000     0    36.36     2              3   \n",
       "\n",
       "                      title manage_cost         address1  \n",
       "11  첫입주, 1.5룸신축 풀옵션,버팀목대출가능          15  경기도 안양시 동안구 비산동  \n",
       "12   투룸. 도배, 장판, 씽크대 깔끔수리예정           0  경기도 안양시 동안구 비산동  "
      ]
     },
     "execution_count": 34,
     "metadata": {},
     "output_type": "execute_result"
    }
   ],
   "source": [
    "df.tail(2)"
   ]
  },
  {
   "cell_type": "code",
   "execution_count": 38,
   "id": "c002f0d3-dfde-4fe2-b65c-41a7e76a0ede",
   "metadata": {},
   "outputs": [],
   "source": [
    "# 5. function\n",
    "def oneroom(addr):\n",
    "    url = f'https://apis.zigbang.com/v2/search?leaseYn=N&q={addr}&serviceType=원룸'\n",
    "    response = requests.get(url)\n",
    "    data = response.json()['items'][0]\n",
    "    lat , lng = data['lat'], data['lng']\n",
    "    \n",
    "    geohash = geohash2.encode(lat, lng, precision=5)\n",
    "    \n",
    "    url = f'https://apis.zigbang.com/v2/items/oneroom?geohash={geohash}&depositMin=0&rentMin=0&salesTypes[0]=전세&salesTypes[1]=월세&domain=zigbang&checkAnyItemWithoutFilter=true'\n",
    "    response = requests.get(url)\n",
    "    item_ids = [data['itemId'] for data in response.json()['items']]\n",
    "    \n",
    "    url = 'https://apis.zigbang.com/v2/items/list'\n",
    "    params = {'domain' : \"zigbang\", 'item_ids' : item_ids}\n",
    "    response = requests.post(url, params)\n",
    "    data = response.json()['items']\n",
    "    df = pd.DataFrame(data)\n",
    "    df = df[df['address1'].str.contains(addr)].reset_index(drop=True)\n",
    "    return df[['item_id', 'sales_title', 'deposit', 'rent', 'size_m2', 'floor', 'building_floor', 'title',\n",
    "        'manage_cost', 'address1']]"
   ]
  },
  {
   "cell_type": "code",
   "execution_count": 44,
   "id": "173da23d-55e2-45f1-b901-a7b1ade9c0f5",
   "metadata": {},
   "outputs": [
    {
     "data": {
      "text/html": [
       "<div>\n",
       "<style scoped>\n",
       "    .dataframe tbody tr th:only-of-type {\n",
       "        vertical-align: middle;\n",
       "    }\n",
       "\n",
       "    .dataframe tbody tr th {\n",
       "        vertical-align: top;\n",
       "    }\n",
       "\n",
       "    .dataframe thead th {\n",
       "        text-align: right;\n",
       "    }\n",
       "</style>\n",
       "<table border=\"1\" class=\"dataframe\">\n",
       "  <thead>\n",
       "    <tr style=\"text-align: right;\">\n",
       "      <th></th>\n",
       "      <th>item_id</th>\n",
       "      <th>sales_title</th>\n",
       "      <th>deposit</th>\n",
       "      <th>rent</th>\n",
       "      <th>size_m2</th>\n",
       "      <th>floor</th>\n",
       "      <th>building_floor</th>\n",
       "      <th>title</th>\n",
       "      <th>manage_cost</th>\n",
       "      <th>address1</th>\n",
       "    </tr>\n",
       "  </thead>\n",
       "  <tbody>\n",
       "    <tr>\n",
       "      <th>0</th>\n",
       "      <td>41890005</td>\n",
       "      <td>전세</td>\n",
       "      <td>30000</td>\n",
       "      <td>0</td>\n",
       "      <td>123.00</td>\n",
       "      <td>23</td>\n",
       "      <td>24</td>\n",
       "      <td>전세대출,3룸화2,신축풀옵션,이마트옆이용편리</td>\n",
       "      <td></td>\n",
       "      <td>경기도 안양시 동안구 비산동</td>\n",
       "    </tr>\n",
       "    <tr>\n",
       "      <th>1</th>\n",
       "      <td>41944069</td>\n",
       "      <td>전세</td>\n",
       "      <td>30000</td>\n",
       "      <td>0</td>\n",
       "      <td>123.85</td>\n",
       "      <td>22</td>\n",
       "      <td>24</td>\n",
       "      <td>이마트앞,신축3룸,전세대출가,가전풀옵션,신혼환</td>\n",
       "      <td></td>\n",
       "      <td>경기도 안양시 동안구 비산동</td>\n",
       "    </tr>\n",
       "    <tr>\n",
       "      <th>2</th>\n",
       "      <td>42135315</td>\n",
       "      <td>전세</td>\n",
       "      <td>30000</td>\n",
       "      <td>0</td>\n",
       "      <td>123.85</td>\n",
       "      <td>21</td>\n",
       "      <td>24</td>\n",
       "      <td>이마트앞,3룸가전풀옵션,신혼부부대환영,전세대출가</td>\n",
       "      <td>20</td>\n",
       "      <td>경기도 안양시 동안구 비산동</td>\n",
       "    </tr>\n",
       "    <tr>\n",
       "      <th>3</th>\n",
       "      <td>42197671</td>\n",
       "      <td>월세</td>\n",
       "      <td>3000</td>\n",
       "      <td>120</td>\n",
       "      <td>123.00</td>\n",
       "      <td>20</td>\n",
       "      <td>24</td>\n",
       "      <td>사업자,3룸화2,신축풀옵션,</td>\n",
       "      <td>0</td>\n",
       "      <td>경기도 안양시 동안구 비산동</td>\n",
       "    </tr>\n",
       "    <tr>\n",
       "      <th>4</th>\n",
       "      <td>42227592</td>\n",
       "      <td>전세</td>\n",
       "      <td>30000</td>\n",
       "      <td>0</td>\n",
       "      <td>125.00</td>\n",
       "      <td>17</td>\n",
       "      <td>24</td>\n",
       "      <td>신축 풀옵션, 첫입주 전세</td>\n",
       "      <td>9</td>\n",
       "      <td>경기도 안양시 동안구 비산동</td>\n",
       "    </tr>\n",
       "    <tr>\n",
       "      <th>5</th>\n",
       "      <td>42243177</td>\n",
       "      <td>전세</td>\n",
       "      <td>30000</td>\n",
       "      <td>0</td>\n",
       "      <td>123.85</td>\n",
       "      <td>21</td>\n",
       "      <td>24</td>\n",
       "      <td>대출무,이파트앞,신축3룸,가전풀옵션,전세대출가,기운좋은오피</td>\n",
       "      <td>20</td>\n",
       "      <td>경기도 안양시 동안구 비산동</td>\n",
       "    </tr>\n",
       "    <tr>\n",
       "      <th>6</th>\n",
       "      <td>42221112</td>\n",
       "      <td>월세</td>\n",
       "      <td>1000</td>\n",
       "      <td>84</td>\n",
       "      <td>39.49</td>\n",
       "      <td>중</td>\n",
       "      <td>15</td>\n",
       "      <td>전입가능,신축  1.5룸 풀옵션 원룸</td>\n",
       "      <td>12</td>\n",
       "      <td>경기도 안양시 동안구 비산동</td>\n",
       "    </tr>\n",
       "    <tr>\n",
       "      <th>7</th>\n",
       "      <td>42221123</td>\n",
       "      <td>월세</td>\n",
       "      <td>1000</td>\n",
       "      <td>84</td>\n",
       "      <td>39.49</td>\n",
       "      <td>중</td>\n",
       "      <td>15</td>\n",
       "      <td>전입가능.신축 1.5룸비산수풀채 풀옵션.</td>\n",
       "      <td>12</td>\n",
       "      <td>경기도 안양시 동안구 비산동</td>\n",
       "    </tr>\n",
       "    <tr>\n",
       "      <th>8</th>\n",
       "      <td>42221148</td>\n",
       "      <td>월세</td>\n",
       "      <td>1000</td>\n",
       "      <td>84</td>\n",
       "      <td>36.36</td>\n",
       "      <td>중</td>\n",
       "      <td>15</td>\n",
       "      <td>전입가능   풀옵션1.5룸 , 주차편리, 주변환경 좋아요.</td>\n",
       "      <td>12</td>\n",
       "      <td>경기도 안양시 동안구 비산동</td>\n",
       "    </tr>\n",
       "    <tr>\n",
       "      <th>9</th>\n",
       "      <td>42221162</td>\n",
       "      <td>월세</td>\n",
       "      <td>1000</td>\n",
       "      <td>84</td>\n",
       "      <td>39.49</td>\n",
       "      <td>중</td>\n",
       "      <td>15</td>\n",
       "      <td>전입신고가능한 신축 1.5룸  비산수풀채</td>\n",
       "      <td>12</td>\n",
       "      <td>경기도 안양시 동안구 비산동</td>\n",
       "    </tr>\n",
       "    <tr>\n",
       "      <th>10</th>\n",
       "      <td>42227595</td>\n",
       "      <td>월세</td>\n",
       "      <td>1000</td>\n",
       "      <td>84</td>\n",
       "      <td>39.67</td>\n",
       "      <td>고</td>\n",
       "      <td>15</td>\n",
       "      <td>전입가능한 신축형 1.5룸입니다.</td>\n",
       "      <td>12</td>\n",
       "      <td>경기도 안양시 동안구 비산동</td>\n",
       "    </tr>\n",
       "    <tr>\n",
       "      <th>11</th>\n",
       "      <td>42221242</td>\n",
       "      <td>월세</td>\n",
       "      <td>21000</td>\n",
       "      <td>19</td>\n",
       "      <td>39.00</td>\n",
       "      <td>5</td>\n",
       "      <td>26</td>\n",
       "      <td>첫입주, 1.5룸신축 풀옵션,버팀목대출가능</td>\n",
       "      <td>15</td>\n",
       "      <td>경기도 안양시 동안구 비산동</td>\n",
       "    </tr>\n",
       "    <tr>\n",
       "      <th>12</th>\n",
       "      <td>42156233</td>\n",
       "      <td>전세</td>\n",
       "      <td>13000</td>\n",
       "      <td>0</td>\n",
       "      <td>36.36</td>\n",
       "      <td>2</td>\n",
       "      <td>3</td>\n",
       "      <td>투룸. 도배, 장판, 씽크대 깔끔수리예정</td>\n",
       "      <td>0</td>\n",
       "      <td>경기도 안양시 동안구 비산동</td>\n",
       "    </tr>\n",
       "  </tbody>\n",
       "</table>\n",
       "</div>"
      ],
      "text/plain": [
       "     item_id sales_title  deposit  rent  size_m2 floor building_floor  \\\n",
       "0   41890005          전세    30000     0   123.00    23             24   \n",
       "1   41944069          전세    30000     0   123.85    22             24   \n",
       "2   42135315          전세    30000     0   123.85    21             24   \n",
       "3   42197671          월세     3000   120   123.00    20             24   \n",
       "4   42227592          전세    30000     0   125.00    17             24   \n",
       "5   42243177          전세    30000     0   123.85    21             24   \n",
       "6   42221112          월세     1000    84    39.49     중             15   \n",
       "7   42221123          월세     1000    84    39.49     중             15   \n",
       "8   42221148          월세     1000    84    36.36     중             15   \n",
       "9   42221162          월세     1000    84    39.49     중             15   \n",
       "10  42227595          월세     1000    84    39.67     고             15   \n",
       "11  42221242          월세    21000    19    39.00     5             26   \n",
       "12  42156233          전세    13000     0    36.36     2              3   \n",
       "\n",
       "                               title manage_cost         address1  \n",
       "0           전세대출,3룸화2,신축풀옵션,이마트옆이용편리              경기도 안양시 동안구 비산동  \n",
       "1          이마트앞,신축3룸,전세대출가,가전풀옵션,신혼환              경기도 안양시 동안구 비산동  \n",
       "2         이마트앞,3룸가전풀옵션,신혼부부대환영,전세대출가          20  경기도 안양시 동안구 비산동  \n",
       "3                    사업자,3룸화2,신축풀옵션,           0  경기도 안양시 동안구 비산동  \n",
       "4                     신축 풀옵션, 첫입주 전세           9  경기도 안양시 동안구 비산동  \n",
       "5   대출무,이파트앞,신축3룸,가전풀옵션,전세대출가,기운좋은오피          20  경기도 안양시 동안구 비산동  \n",
       "6               전입가능,신축  1.5룸 풀옵션 원룸          12  경기도 안양시 동안구 비산동  \n",
       "7             전입가능.신축 1.5룸비산수풀채 풀옵션.          12  경기도 안양시 동안구 비산동  \n",
       "8   전입가능   풀옵션1.5룸 , 주차편리, 주변환경 좋아요.          12  경기도 안양시 동안구 비산동  \n",
       "9             전입신고가능한 신축 1.5룸  비산수풀채          12  경기도 안양시 동안구 비산동  \n",
       "10                전입가능한 신축형 1.5룸입니다.          12  경기도 안양시 동안구 비산동  \n",
       "11           첫입주, 1.5룸신축 풀옵션,버팀목대출가능          15  경기도 안양시 동안구 비산동  \n",
       "12            투룸. 도배, 장판, 씽크대 깔끔수리예정           0  경기도 안양시 동안구 비산동  "
      ]
     },
     "execution_count": 44,
     "metadata": {},
     "output_type": "execute_result"
    }
   ],
   "source": [
    "df = oneroom('동안구 비산동')\n",
    "df"
   ]
  },
  {
   "cell_type": "code",
   "execution_count": null,
   "id": "b42c55bf-faa8-431d-9b9e-a6da99ae5e89",
   "metadata": {},
   "outputs": [],
   "source": []
  }
 ],
 "metadata": {
  "kernelspec": {
   "display_name": "Python 3 (ipykernel)",
   "language": "python",
   "name": "python3"
  },
  "language_info": {
   "codemirror_mode": {
    "name": "ipython",
    "version": 3
   },
   "file_extension": ".py",
   "mimetype": "text/x-python",
   "name": "python",
   "nbconvert_exporter": "python",
   "pygments_lexer": "ipython3",
   "version": "3.9.7"
  },
  "toc": {
   "base_numbering": 1,
   "nav_menu": {},
   "number_sections": false,
   "sideBar": true,
   "skip_h1_title": false,
   "title_cell": "Table of Contents",
   "title_sidebar": "Contents",
   "toc_cell": false,
   "toc_position": {},
   "toc_section_display": true,
   "toc_window_display": false
  }
 },
 "nbformat": 4,
 "nbformat_minor": 5
}
