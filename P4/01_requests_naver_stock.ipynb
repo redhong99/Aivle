{
 "cells": [
  {
   "cell_type": "markdown",
   "id": "a2843caf",
   "metadata": {
    "id": "a2843caf"
   },
   "source": [
    "## Web Crawling\n",
    "- 웹 페이지에서 데이터를 수집하는 방법에 대해서 학습"
   ]
  },
  {
   "cell_type": "markdown",
   "id": "193e82cc",
   "metadata": {
    "id": "193e82cc"
   },
   "source": [
    "### 웹크롤링 방법\n",
    "\n",
    "#### 웹페이지의 종류\n",
    "- 정적인 페이지 : 웹 브라우져에 화면이 한번 뜨면 이벤트에 의한 화면의 변경이 없는 페이지 \n",
    "- 동적인 페이지 : 웹 브라우져에 화면이 뜨고 이벤트가 발생하면 서버에서 데이터를 가져와 화면을 변경하는 페이지\n",
    "\n",
    "#### requests 이용\n",
    "- 받아오는 문자열에 따라 두가지 방법으로 구분\n",
    "    - json 문자열로 받아서 파싱하는 방법 : 주로 동적 페이지 크롤링할때 사용 \n",
    "    - html 문자열로 받아서 파싱하는 방법 : 주로 정적 페이지 크롤링할때 사용\n",
    "        \n",
    "#### selenium 이용\n",
    "- 브라우져를 직접 열어서 데이터를 받는 방법\n",
    "\n",
    "#### 크롤링 방법에 따른 속도\n",
    "- requests json > requests html > selenium"
   ]
  },
  {
   "cell_type": "markdown",
   "id": "c9c2b3eb",
   "metadata": {
    "id": "c9c2b3eb"
   },
   "source": [
    "### Crawling Naver Stock Datas\n",
    "- 네이버 증권 사이트에서 주가 데이터 수집\n",
    "- 수집할 데이터 : 일별 kospi, kosdaq 주가, 일별 환율(exchange rate) 데이터\n",
    "- 데이터 수집 절차\n",
    "    - 웹서비스 분석 : url :chrome devtool\n",
    "    - 서버에 데이터 요청 : request(url) > response : json(str)\n",
    "    - 서버에서 받은 데이터 파싱(데이터 형태를 변경) : json(str) > list, dict > DataFrame"
   ]
  },
  {
   "cell_type": "code",
   "execution_count": 4,
   "id": "77151645",
   "metadata": {},
   "outputs": [],
   "source": [
    "import requests\n",
    "import pandas as pd"
   ]
  },
  {
   "cell_type": "markdown",
   "id": "e9946ce1",
   "metadata": {
    "id": "e9946ce1"
   },
   "source": [
    "#### 1. 웹서비스 분석 : url\n",
    "- pc 웹페이지가 복잡하면 mobile 웹페이지에서 수집"
   ]
  },
  {
   "cell_type": "code",
   "execution_count": 48,
   "id": "05f8fcb2",
   "metadata": {},
   "outputs": [
    {
     "data": {
      "text/plain": [
       "'https://m.stock.naver.com/api/index/KOSPI/price?pageSize=60&page=1'"
      ]
     },
     "execution_count": 48,
     "metadata": {},
     "output_type": "execute_result"
    }
   ],
   "source": [
    "page_size, page = 60, 1\n",
    "url = f'https://m.stock.naver.com/api/index/KOSPI/price?pageSize={page_size}&page={page}'\n",
    "url"
   ]
  },
  {
   "cell_type": "markdown",
   "id": "45b9c484",
   "metadata": {
    "id": "45b9c484"
   },
   "source": [
    "#### 2. 서버에 데이터 요청 : request(url) > response : json(str)\n",
    "- response의 status code가 200이 나오는지 확인\n",
    "- 403이나 500이 나오면 request가 잘못되거나 web server에서 수집이 안되도록 설정이 된것임\n",
    "    - header 설정 또는 selenium 사용\n",
    "- 200이 나오더라도 response 안에 있는 내용을 확인 > 확인하는 방법 : response.text"
   ]
  },
  {
   "cell_type": "code",
   "execution_count": 51,
   "id": "ba8417ac",
   "metadata": {
    "scrolled": true
   },
   "outputs": [
    {
     "data": {
      "text/plain": [
       "<Response [200]>"
      ]
     },
     "execution_count": 51,
     "metadata": {},
     "output_type": "execute_result"
    }
   ],
   "source": [
    "response = requests.get(url)\n",
    "response"
   ]
  },
  {
   "cell_type": "code",
   "execution_count": 53,
   "id": "7c7cfe58-919d-4e57-bba0-8b5229320302",
   "metadata": {},
   "outputs": [
    {
     "data": {
      "text/plain": [
       "'[{\"localTradedAt\":\"2024-09-19\",\"closePrice\":\"2,580.80\",\"compareToPreviousClosePrice\":\"5.39\",\"compareToPreviousPrice\":{\"code\":\"2\",\"text\":\"상승\",\"name\":\"RISING\"},\"fluctuationsRatio\":\"0.21\",\"openPrice\":\"2,594.67\",\"highPrice\":\"2,598.68\",\"lowPrice\":\"2,550.09\"},{\"localTradedAt\":\"2024-09-13\",\"closePrice\":\"2,575.41\",\"compareToPreviousClosePrice\":\"3.32\",\"compareToPreviousPrice\":{\"code\":\"2\",\"text\":\"상승\",\"name\":\"RISING\"},\"fluctuationsRatio\":\"0.13\",\"openPrice\":\"2,571.81\",\"highPrice\":\"2,584.11\",\"lowPrice\":\"2,562.91\"},{\"localTradedAt\":\"2024-09-12\",\"closePrice\":\"2,572.09\",\"compareToPreviousClosePrice\":\"58.72\",\"compareToPreviousPrice\":{\"code\":\"2\",\"text\":\"상승\",\"name\":\"RISING\"},\"fluctuationsRatio\":\"2.34\",\"openPrice\":\"2,547.50\",\"highPrice\":\"2,572.09\",\"lowPrice\":\"2,537.87\"},{\"localTradedAt\":\"2024-09-11\",\"closePrice\":\"2,513.37\",\"compareToPreviousClosePrice\":\"-10.06\",\"compareToPreviousPrice\":{\"code\":\"5\",\"text\":\"하락\",\"name\":\"FALLING\"},\"fluctuationsRatio\":\"-0.40\",\"openPrice\":\"2,524.86\",\"highPrice\":\"2,526.13\",\"lowPrice\":\"2,493.37\"},{\"localTradedAt\":\"2024-09-10\",\"closePrice\":\"2,523.43\",\"compareToPreviousClosePrice\":\"-12.50\",\"compareToPreviousPrice\":{\"code\":\"5\",\"text\":\"하락\",\"name\":\"FALLING\"},\"fluctuationsRatio\":\"-0.49\",\"openPrice\":\"2,542.69\",\"highPrice\":\"2,544.83\",\"lowPrice\":\"2,522.48\"},{\"localTradedAt\":\"2024-09-09\",\"closePrice\":\"2,535.93\",\"compareToPreviousClosePrice\":\"-8.35\",\"compareToPreviousPrice\":{\"code\":\"5\",\"text\":\"하락\",\"name\":\"FALLING\"},\"fluctuationsRatio\":\"-0.33\",\"openPrice\":\"2,498.67\",\"highPrice\":\"2,543.22\",\"lowPrice\":\"2,491.30\"},{\"localTradedAt\":\"2024-09-06\",\"closePrice\":\"2,544.28\",\"compareToPreviousClosePrice\":\"-31.22\",\"compareToPreviousPrice\":{\"code\":\"5\",\"text\":\"하락\",\"name\":\"FALLING\"},\"fluctuationsRatio\":\"-1.21\",\"openPrice\":\"2,576.66\",\"highPrice\":\"2,576.94\",\"lowPrice\":\"2,529.31\"},{\"localTradedAt\":\"2024-09-05\",\"closePrice\":\"2,575.50\",\"compareToPreviousClosePrice\":\"-5.30\",\"compareToPreviousPrice\":{\"code\":\"5\",\"text\":\"하락\",\"name\":\"FALLING\"},\"fluctuationsRatio\":\"-0.21\",\"openPrice\":\"2,598.36\",\"highPrice\":\"2,615.80\",\"lowPrice\":\"2,560.65\"},{\"localTradedAt\":\"2024-09-04\",\"closePrice\":\"2,580.80\",\"compareToPreviousClosePrice\":\"-83.83\",\"compareToPreviousPrice\":{\"code\":\"5\",\"text\":\"하락\",\"name\":\"FALLING\"},\"fluctuationsRatio\":\"-3.15\",\"openPrice\":\"2,589.94\",\"highPrice\":\"2,608.13\",\"lowPrice\":\"2,578.07\"},{\"localTradedAt\":\"2024-09-03\",\"closePrice\":\"2,664.63\",\"compareToPreviousClosePrice\":\"-16.37\",\"compareToPreviousPrice\":{\"code\":\"5\",\"text\":\"하락\",\"name\":\"FALLING\"},\"fluctuationsRatio\":\"-0.61\",\"openPrice\":\"2,683.12\",\"highPrice\":\"2,695.59\",\"lowPrice\":\"2,664.63\"},{\"localTradedAt\":\"2024-09-02\",\"closePrice\":\"2,681.00\",\"compareToPreviousClosePrice\":\"6.69\",\"compareToPreviousPrice\":{\"code\":\"2\",\"text\":\"상승\",\"name\":\"RISING\"},\"fluctuationsRatio\":\"0.25\",\"openPrice\":\"2,683.80\",\"highPrice\":\"2,686.98\",\"lowPrice\":\"2,658.31\"},{\"localTradedAt\":\"2024-08-30\",\"closePrice\":\"2,674.31\",\"compareToPreviousClosePrice\":\"12.03\",\"compareToPreviousPrice\":{\"code\":\"2\",\"text\":\"상승\",\"name\":\"RISING\"},\"fluctuationsRatio\":\"0.45\",\"openPrice\":\"2,676.72\",\"highPrice\":\"2,686.51\",\"lowPrice\":\"2,668.66\"},{\"localTradedAt\":\"2024-08-29\",\"closePrice\":\"2,662.28\",\"compareToPreviousClosePrice\":\"-27.55\",\"compareToPreviousPrice\":{\"code\":\"5\",\"text\":\"하락\",\"name\":\"FALLING\"},\"fluctuationsRatio\":\"-1.02\",\"openPrice\":\"2,657.18\",\"highPrice\":\"2,672.90\",\"lowPrice\":\"2,649.56\"},{\"localTradedAt\":\"2024-08-28\",\"closePrice\":\"2,689.83\",\"compareToPreviousClosePrice\":\"0.58\",\"compareToPreviousPrice\":{\"code\":\"2\",\"text\":\"상승\",\"name\":\"RISING\"},\"fluctuationsRatio\":\"0.02\",\"openPrice\":\"2,690.59\",\"highPrice\":\"2,695.51\",\"lowPrice\":\"2,671.59\"},{\"localTradedAt\":\"2024-08-27\",\"closePrice\":\"2,689.25\",\"compareToPreviousClosePrice\":\"-8.76\",\"compareToPreviousPrice\":{\"code\":\"5\",\"text\":\"하락\",\"name\":\"FALLING\"},\"fluctuationsRatio\":\"-0.32\",\"openPrice\":\"2,696.24\",\"highPrice\":\"2,700.18\",\"lowPrice\":\"2,681.92\"},{\"localTradedAt\":\"2024-08-26\",\"closePrice\":\"2,698.01\",\"compareToPreviousClosePrice\":\"-3.68\",\"compareToPreviousPrice\":{\"code\":\"5\",\"text\":\"하락\",\"name\":\"FALLING\"},\"fluctuationsRatio\":\"-0.14\",\"openPrice\":\"2,716.88\",\"highPrice\":\"2,718.47\",\"lowPrice\":\"2,688.79\"},{\"localTradedAt\":\"2024-08-23\",\"closePrice\":\"2,701.69\",\"compareToPreviousClosePrice\":\"-5.98\",\"compareToPreviousPrice\":{\"code\":\"5\",\"text\":\"하락\",\"name\":\"FALLING\"},\"fluctuationsRatio\":\"-0.22\",\"openPrice\":\"2,690.80\",\"highPrice\":\"2,712.84\",\"lowPrice\":\"2,689.54\"},{\"localTradedAt\":\"2024-08-22\",\"closePrice\":\"2,707.67\",\"compareToPreviousClosePrice\":\"6.54\",\"compareToPreviousPrice\":{\"code\":\"2\",\"text\":\"상승\",\"name\":\"RISING\"},\"fluctuationsRatio\":\"0.24\",\"openPrice\":\"2,710.95\",\"highPrice\":\"2,711.38\",\"lowPrice\":\"2,690.35\"},{\"localTradedAt\":\"2024-08-21\",\"closePrice\":\"2,701.13\",\"compareToPreviousClosePrice\":\"4.50\",\"compareToPreviousPrice\":{\"code\":\"2\",\"text\":\"상승\",\"name\":\"RISING\"},\"fluctuationsRatio\":\"0.17\",\"openPrice\":\"2,687.20\",\"highPrice\":\"2,704.98\",\"lowPrice\":\"2,684.61\"},{\"localTradedAt\":\"2024-08-20\",\"closePrice\":\"2,696.63\",\"compareToPreviousClosePrice\":\"22.27\",\"compareToPreviousPrice\":{\"code\":\"2\",\"text\":\"상승\",\"name\":\"RISING\"},\"fluctuationsRatio\":\"0.83\",\"openPrice\":\"2,699.74\",\"highPrice\":\"2,706.05\",\"lowPrice\":\"2,686.06\"},{\"localTradedAt\":\"2024-08-19\",\"closePrice\":\"2,674.36\",\"compareToPreviousClosePrice\":\"-22.87\",\"compareToPreviousPrice\":{\"code\":\"5\",\"text\":\"하락\",\"name\":\"FALLING\"},\"fluctuationsRatio\":\"-0.85\",\"openPrice\":\"2,697.97\",\"highPrice\":\"2,699.84\",\"lowPrice\":\"2,664.28\"},{\"localTradedAt\":\"2024-08-16\",\"closePrice\":\"2,697.23\",\"compareToPreviousClosePrice\":\"52.73\",\"compareToPreviousPrice\":{\"code\":\"2\",\"text\":\"상승\",\"name\":\"RISING\"},\"fluctuationsRatio\":\"1.99\",\"openPrice\":\"2,695.49\",\"highPrice\":\"2,699.61\",\"lowPrice\":\"2,680.74\"},{\"localTradedAt\":\"2024-08-14\",\"closePrice\":\"2,644.50\",\"compareToPreviousClosePrice\":\"23.00\",\"compareToPreviousPrice\":{\"code\":\"2\",\"text\":\"상승\",\"name\":\"RISING\"},\"fluctuationsRatio\":\"0.88\",\"openPrice\":\"2,649.11\",\"highPrice\":\"2,653.71\",\"lowPrice\":\"2,632.44\"},{\"localTradedAt\":\"2024-08-13\",\"closePrice\":\"2,621.50\",\"compareToPreviousClosePrice\":\"3.20\",\"compareToPreviousPrice\":{\"code\":\"2\",\"text\":\"상승\",\"name\":\"RISING\"},\"fluctuationsRatio\":\"0.12\",\"openPrice\":\"2,624.50\",\"highPrice\":\"2,636.12\",\"lowPrice\":\"2,607.52\"},{\"localTradedAt\":\"2024-08-12\",\"closePrice\":\"2,618.30\",\"compareToPreviousClosePrice\":\"29.87\",\"compareToPreviousPrice\":{\"code\":\"2\",\"text\":\"상승\",\"name\":\"RISING\"},\"fluctuationsRatio\":\"1.15\",\"openPrice\":\"2,602.16\",\"highPrice\":\"2,622.86\",\"lowPrice\":\"2,602.01\"},{\"localTradedAt\":\"2024-08-09\",\"closePrice\":\"2,588.43\",\"compareToPreviousClosePrice\":\"31.70\",\"compareToPreviousPrice\":{\"code\":\"2\",\"text\":\"상승\",\"name\":\"RISING\"},\"fluctuationsRatio\":\"1.24\",\"openPrice\":\"2,603.08\",\"highPrice\":\"2,603.08\",\"lowPrice\":\"2,575.90\"},{\"localTradedAt\":\"2024-08-08\",\"closePrice\":\"2,556.73\",\"compareToPreviousClosePrice\":\"-11.68\",\"compareToPreviousPrice\":{\"code\":\"5\",\"text\":\"하락\",\"name\":\"FALLING\"},\"fluctuationsRatio\":\"-0.45\",\"openPrice\":\"2,530.21\",\"highPrice\":\"2,570.34\",\"lowPrice\":\"2,518.52\"},{\"localTradedAt\":\"2024-08-07\",\"closePrice\":\"2,568.41\",\"compareToPreviousClosePrice\":\"46.26\",\"compareToPreviousPrice\":{\"code\":\"2\",\"text\":\"상승\",\"name\":\"RISING\"},\"fluctuationsRatio\":\"1.83\",\"openPrice\":\"2,515.27\",\"highPrice\":\"2,594.83\",\"lowPrice\":\"2,510.82\"},{\"localTradedAt\":\"2024-08-06\",\"closePrice\":\"2,522.15\",\"compareToPreviousClosePrice\":\"80.60\",\"compareToPreviousPrice\":{\"code\":\"2\",\"text\":\"상승\",\"name\":\"RISING\"},\"fluctuationsRatio\":\"3.30\",\"openPrice\":\"2,533.34\",\"highPrice\":\"2,578.77\",\"lowPrice\":\"2,491.47\"},{\"localTradedAt\":\"2024-08-05\",\"closePrice\":\"2,441.55\",\"compareToPreviousClosePrice\":\"-234.64\",\"compareToPreviousPrice\":{\"code\":\"5\",\"text\":\"하락\",\"name\":\"FALLING\"},\"fluctuationsRatio\":\"-8.77\",\"openPrice\":\"2,611.30\",\"highPrice\":\"2,611.30\",\"lowPrice\":\"2,386.96\"},{\"localTradedAt\":\"2024-08-02\",\"closePrice\":\"2,676.19\",\"compareToPreviousClosePrice\":\"-101.49\",\"compareToPreviousPrice\":{\"code\":\"5\",\"text\":\"하락\",\"name\":\"FALLING\"},\"fluctuationsRatio\":\"-3.65\",\"openPrice\":\"2,719.39\",\"highPrice\":\"2,725.05\",\"lowPrice\":\"2,666.40\"},{\"localTradedAt\":\"2024-08-01\",\"closePrice\":\"2,777.68\",\"compareToPreviousClosePrice\":\"6.99\",\"compareToPreviousPrice\":{\"code\":\"2\",\"text\":\"상승\",\"name\":\"RISING\"},\"fluctuationsRatio\":\"0.25\",\"openPrice\":\"2,787.27\",\"highPrice\":\"2,794.11\",\"lowPrice\":\"2,772.97\"},{\"localTradedAt\":\"2024-07-31\",\"closePrice\":\"2,770.69\",\"compareToPreviousClosePrice\":\"32.50\",\"compareToPreviousPrice\":{\"code\":\"2\",\"text\":\"상승\",\"name\":\"RISING\"},\"fluctuationsRatio\":\"1.19\",\"openPrice\":\"2,745.58\",\"highPrice\":\"2,770.70\",\"lowPrice\":\"2,733.63\"},{\"localTradedAt\":\"2024-07-30\",\"closePrice\":\"2,738.19\",\"compareToPreviousClosePrice\":\"-27.34\",\"compareToPreviousPrice\":{\"code\":\"5\",\"text\":\"하락\",\"name\":\"FALLING\"},\"fluctuationsRatio\":\"-0.99\",\"openPrice\":\"2,744.40\",\"highPrice\":\"2,754.53\",\"lowPrice\":\"2,732.82\"},{\"localTradedAt\":\"2024-07-29\",\"closePrice\":\"2,765.53\",\"compareToPreviousClosePrice\":\"33.63\",\"compareToPreviousPrice\":{\"code\":\"2\",\"text\":\"상승\",\"name\":\"RISING\"},\"fluctuationsRatio\":\"1.23\",\"openPrice\":\"2,748.32\",\"highPrice\":\"2,776.86\",\"lowPrice\":\"2,742.69\"},{\"localTradedAt\":\"2024-07-26\",\"closePrice\":\"2,731.90\",\"compareToPreviousClosePrice\":\"21.25\",\"compareToPreviousPrice\":{\"code\":\"2\",\"text\":\"상승\",\"name\":\"RISING\"},\"fluctuationsRatio\":\"0.78\",\"openPrice\":\"2,724.99\",\"highPrice\":\"2,738.40\",\"lowPrice\":\"2,715.75\"},{\"localTradedAt\":\"2024-07-25\",\"closePrice\":\"2,710.65\",\"compareToPreviousClosePrice\":\"-48.06\",\"compareToPreviousPrice\":{\"code\":\"5\",\"text\":\"하락\",\"name\":\"FALLING\"},\"fluctuationsRatio\":\"-1.74\",\"openPrice\":\"2,721.29\",\"highPrice\":\"2,725.15\",\"lowPrice\":\"2,703.86\"},{\"localTradedAt\":\"2024-07-24\",\"closePrice\":\"2,758.71\",\"compareToPreviousClosePrice\":\"-15.58\",\"compareToPreviousPrice\":{\"code\":\"5\",\"text\":\"하락\",\"name\":\"FALLING\"},\"fluctuationsRatio\":\"-0.56\",\"openPrice\":\"2,755.50\",\"highPrice\":\"2,778.31\",\"lowPrice\":\"2,748.65\"},{\"localTradedAt\":\"2024-07-23\",\"closePrice\":\"2,774.29\",\"compareToPreviousClosePrice\":\"10.78\",\"compareToPreviousPrice\":{\"code\":\"2\",\"text\":\"상승\",\"name\":\"RISING\"},\"fluctuationsRatio\":\"0.39\",\"openPrice\":\"2,788.83\",\"highPrice\":\"2,796.92\",\"lowPrice\":\"2,765.81\"},{\"localTradedAt\":\"2024-07-22\",\"closePrice\":\"2,763.51\",\"compareToPreviousClosePrice\":\"-31.95\",\"compareToPreviousPrice\":{\"code\":\"5\",\"text\":\"하락\",\"name\":\"FALLING\"},\"fluctuationsRatio\":\"-1.14\",\"openPrice\":\"2,790.99\",\"highPrice\":\"2,795.12\",\"lowPrice\":\"2,752.63\"},{\"localTradedAt\":\"2024-07-19\",\"closePrice\":\"2,795.46\",\"compareToPreviousClosePrice\":\"-28.89\",\"compareToPreviousPrice\":{\"code\":\"5\",\"text\":\"하락\",\"name\":\"FALLING\"},\"fluctuationsRatio\":\"-1.02\",\"openPrice\":\"2,800.21\",\"highPrice\":\"2,802.68\",\"lowPrice\":\"2,776.99\"},{\"localTradedAt\":\"2024-07-18\",\"closePrice\":\"2,824.35\",\"compareToPreviousClosePrice\":\"-18.94\",\"compareToPreviousPrice\":{\"code\":\"5\",\"text\":\"하락\",\"name\":\"FALLING\"},\"fluctuationsRatio\":\"-0.67\",\"openPrice\":\"2,805.64\",\"highPrice\":\"2,824.35\",\"lowPrice\":\"2,799.02\"},{\"localTradedAt\":\"2024-07-17\",\"closePrice\":\"2,843.29\",\"compareToPreviousClosePrice\":\"-22.80\",\"compareToPreviousPrice\":{\"code\":\"5\",\"text\":\"하락\",\"name\":\"FALLING\"},\"fluctuationsRatio\":\"-0.80\",\"openPrice\":\"2,865.90\",\"highPrice\":\"2,868.58\",\"lowPrice\":\"2,841.33\"},{\"localTradedAt\":\"2024-07-16\",\"closePrice\":\"2,866.09\",\"compareToPreviousClosePrice\":\"5.17\",\"compareToPreviousPrice\":{\"code\":\"2\",\"text\":\"상승\",\"name\":\"RISING\"},\"fluctuationsRatio\":\"0.18\",\"openPrice\":\"2,861.71\",\"highPrice\":\"2,872.21\",\"lowPrice\":\"2,857.07\"},{\"localTradedAt\":\"2024-07-15\",\"closePrice\":\"2,860.92\",\"compareToPreviousClosePrice\":\"3.92\",\"compareToPreviousPrice\":{\"code\":\"2\",\"text\":\"상승\",\"name\":\"RISING\"},\"fluctuationsRatio\":\"0.14\",\"openPrice\":\"2,869.15\",\"highPrice\":\"2,872.90\",\"lowPrice\":\"2,848.93\"},{\"localTradedAt\":\"2024-07-12\",\"closePrice\":\"2,857.00\",\"compareToPreviousClosePrice\":\"-34.35\",\"compareToPreviousPrice\":{\"code\":\"5\",\"text\":\"하락\",\"name\":\"FALLING\"},\"fluctuationsRatio\":\"-1.19\",\"openPrice\":\"2,867.75\",\"highPrice\":\"2,872.25\",\"lowPrice\":\"2,844.88\"},{\"localTradedAt\":\"2024-07-11\",\"closePrice\":\"2,891.35\",\"compareToPreviousClosePrice\":\"23.36\",\"compareToPreviousPrice\":{\"code\":\"2\",\"text\":\"상승\",\"name\":\"RISING\"},\"fluctuationsRatio\":\"0.81\",\"openPrice\":\"2,888.76\",\"highPrice\":\"2,896.43\",\"lowPrice\":\"2,879.28\"},{\"localTradedAt\":\"2024-07-10\",\"closePrice\":\"2,867.99\",\"compareToPreviousClosePrice\":\"0.61\",\"compareToPreviousPrice\":{\"code\":\"2\",\"text\":\"상승\",\"name\":\"RISING\"},\"fluctuationsRatio\":\"0.02\",\"openPrice\":\"2,863.05\",\"highPrice\":\"2,871.56\",\"lowPrice\":\"2,858.87\"},{\"localTradedAt\":\"2024-07-09\",\"closePrice\":\"2,867.38\",\"compareToPreviousClosePrice\":\"9.62\",\"compareToPreviousPrice\":{\"code\":\"2\",\"text\":\"상승\",\"name\":\"RISING\"},\"fluctuationsRatio\":\"0.34\",\"openPrice\":\"2,872.63\",\"highPrice\":\"2,875.37\",\"lowPrice\":\"2,854.13\"},{\"localTradedAt\":\"2024-07-08\",\"closePrice\":\"2,857.76\",\"compareToPreviousClosePrice\":\"-4.47\",\"compareToPreviousPrice\":{\"code\":\"5\",\"text\":\"하락\",\"name\":\"FALLING\"},\"fluctuationsRatio\":\"-0.16\",\"openPrice\":\"2,862.58\",\"highPrice\":\"2,868.99\",\"lowPrice\":\"2,855.53\"},{\"localTradedAt\":\"2024-07-05\",\"closePrice\":\"2,862.23\",\"compareToPreviousClosePrice\":\"37.29\",\"compareToPreviousPrice\":{\"code\":\"2\",\"text\":\"상승\",\"name\":\"RISING\"},\"fluctuationsRatio\":\"1.32\",\"openPrice\":\"2,836.21\",\"highPrice\":\"2,871.96\",\"lowPrice\":\"2,836.21\"},{\"localTradedAt\":\"2024-07-04\",\"closePrice\":\"2,824.94\",\"compareToPreviousClosePrice\":\"30.93\",\"compareToPreviousPrice\":{\"code\":\"2\",\"text\":\"상승\",\"name\":\"RISING\"},\"fluctuationsRatio\":\"1.11\",\"openPrice\":\"2,817.06\",\"highPrice\":\"2,824.94\",\"lowPrice\":\"2,808.88\"},{\"localTradedAt\":\"2024-07-03\",\"closePrice\":\"2,794.01\",\"compareToPreviousClosePrice\":\"13.15\",\"compareToPreviousPrice\":{\"code\":\"2\",\"text\":\"상승\",\"name\":\"RISING\"},\"fluctuationsRatio\":\"0.47\",\"openPrice\":\"2,797.14\",\"highPrice\":\"2,799.70\",\"lowPrice\":\"2,774.71\"},{\"localTradedAt\":\"2024-07-02\",\"closePrice\":\"2,780.86\",\"compareToPreviousClosePrice\":\"-23.45\",\"compareToPreviousPrice\":{\"code\":\"5\",\"text\":\"하락\",\"name\":\"FALLING\"},\"fluctuationsRatio\":\"-0.84\",\"openPrice\":\"2,798.65\",\"highPrice\":\"2,805.42\",\"lowPrice\":\"2,776.62\"},{\"localTradedAt\":\"2024-07-01\",\"closePrice\":\"2,804.31\",\"compareToPreviousClosePrice\":\"6.49\",\"compareToPreviousPrice\":{\"code\":\"2\",\"text\":\"상승\",\"name\":\"RISING\"},\"fluctuationsRatio\":\"0.23\",\"openPrice\":\"2,792.96\",\"highPrice\":\"2,805.95\",\"lowPrice\":\"2,783.98\"},{\"localTradedAt\":\"2024-06-28\",\"closePrice\":\"2,797.82\",\"compareToPreviousClosePrice\":\"13.76\",\"compareToPreviousPrice\":{\"code\":\"2\",\"text\":\"상승\",\"name\":\"RISING\"},\"fluctuationsRatio\":\"0.49\",\"openPrice\":\"2,792.79\",\"highPrice\":\"2,797.82\",\"lowPrice\":\"2,782.40\"},{\"localTradedAt\":\"2024-06-27\",\"closePrice\":\"2,784.06\",\"compareToPreviousClosePrice\":\"-7.99\",\"compareToPreviousPrice\":{\"code\":\"5\",\"text\":\"하락\",\"name\":\"FALLING\"},\"fluctuationsRatio\":\"-0.29\",\"openPrice\":\"2,767.62\",\"highPrice\":\"2,784.33\",\"lowPrice\":\"2,761.55\"},{\"localTradedAt\":\"2024-06-26\",\"closePrice\":\"2,792.05\",\"compareToPreviousClosePrice\":\"17.66\",\"compareToPreviousPrice\":{\"code\":\"2\",\"text\":\"상승\",\"name\":\"RISING\"},\"fluctuationsRatio\":\"0.64\",\"openPrice\":\"2,767.43\",\"highPrice\":\"2,792.07\",\"lowPrice\":\"2,762.98\"},{\"localTradedAt\":\"2024-06-25\",\"closePrice\":\"2,774.39\",\"compareToPreviousClosePrice\":\"9.66\",\"compareToPreviousPrice\":{\"code\":\"2\",\"text\":\"상승\",\"name\":\"RISING\"},\"fluctuationsRatio\":\"0.35\",\"openPrice\":\"2,765.76\",\"highPrice\":\"2,780.42\",\"lowPrice\":\"2,765.76\"},{\"localTradedAt\":\"2024-06-24\",\"closePrice\":\"2,764.73\",\"compareToPreviousClosePrice\":\"-19.53\",\"compareToPreviousPrice\":{\"code\":\"5\",\"text\":\"하락\",\"name\":\"FALLING\"},\"fluctuationsRatio\":\"-0.70\",\"openPrice\":\"2,772.85\",\"highPrice\":\"2,782.90\",\"lowPrice\":\"2,758.09\"}]'"
      ]
     },
     "execution_count": 53,
     "metadata": {},
     "output_type": "execute_result"
    }
   ],
   "source": [
    "response.text"
   ]
  },
  {
   "cell_type": "code",
   "execution_count": 55,
   "id": "6b070af7-2200-452e-95e5-1dd45e5d14b5",
   "metadata": {},
   "outputs": [
    {
     "data": {
      "text/plain": [
       "requests.models.Response"
      ]
     },
     "execution_count": 55,
     "metadata": {},
     "output_type": "execute_result"
    }
   ],
   "source": [
    "type(response)"
   ]
  },
  {
   "cell_type": "code",
   "execution_count": 57,
   "id": "cfe075dd-92ec-49e5-bd83-364adb18df5a",
   "metadata": {},
   "outputs": [
    {
     "data": {
      "text/plain": [
       "(str,\n",
       " '[{\"localTradedAt\":\"2024-09-19\",\"closePrice\":\"2,580.80\",\"compareToPreviousClosePrice\":\"5.39\",\"compare')"
      ]
     },
     "execution_count": 57,
     "metadata": {},
     "output_type": "execute_result"
    }
   ],
   "source": [
    "type(response.text), response.text[:100]"
   ]
  },
  {
   "cell_type": "markdown",
   "id": "2ab0fb67",
   "metadata": {
    "id": "2ab0fb67"
   },
   "source": [
    "#### 3. 서버에서 받은 데이터 파싱(데이터 형태를 변경) : json(str) > list, dict > DataFrame"
   ]
  },
  {
   "cell_type": "code",
   "execution_count": 60,
   "id": "6e0851a3",
   "metadata": {},
   "outputs": [
    {
     "data": {
      "text/plain": [
       "(list,\n",
       " [{'localTradedAt': '2024-09-19',\n",
       "   'closePrice': '2,580.80',\n",
       "   'compareToPreviousClosePrice': '5.39',\n",
       "   'compareToPreviousPrice': {'code': '2', 'text': '상승', 'name': 'RISING'},\n",
       "   'fluctuationsRatio': '0.21',\n",
       "   'openPrice': '2,594.67',\n",
       "   'highPrice': '2,598.68',\n",
       "   'lowPrice': '2,550.09'},\n",
       "  {'localTradedAt': '2024-09-13',\n",
       "   'closePrice': '2,575.41',\n",
       "   'compareToPreviousClosePrice': '3.32',\n",
       "   'compareToPreviousPrice': {'code': '2', 'text': '상승', 'name': 'RISING'},\n",
       "   'fluctuationsRatio': '0.13',\n",
       "   'openPrice': '2,571.81',\n",
       "   'highPrice': '2,584.11',\n",
       "   'lowPrice': '2,562.91'}])"
      ]
     },
     "execution_count": 60,
     "metadata": {},
     "output_type": "execute_result"
    }
   ],
   "source": [
    "data = response.json()\n",
    "type(data), data[:2]"
   ]
  },
  {
   "cell_type": "code",
   "execution_count": 62,
   "id": "785a0b9f-0486-44e8-a63d-6047f89d0809",
   "metadata": {},
   "outputs": [
    {
     "data": {
      "text/html": [
       "<div>\n",
       "<style scoped>\n",
       "    .dataframe tbody tr th:only-of-type {\n",
       "        vertical-align: middle;\n",
       "    }\n",
       "\n",
       "    .dataframe tbody tr th {\n",
       "        vertical-align: top;\n",
       "    }\n",
       "\n",
       "    .dataframe thead th {\n",
       "        text-align: right;\n",
       "    }\n",
       "</style>\n",
       "<table border=\"1\" class=\"dataframe\">\n",
       "  <thead>\n",
       "    <tr style=\"text-align: right;\">\n",
       "      <th></th>\n",
       "      <th>localTradedAt</th>\n",
       "      <th>closePrice</th>\n",
       "    </tr>\n",
       "  </thead>\n",
       "  <tbody>\n",
       "    <tr>\n",
       "      <th>58</th>\n",
       "      <td>2024-06-25</td>\n",
       "      <td>2,774.39</td>\n",
       "    </tr>\n",
       "    <tr>\n",
       "      <th>59</th>\n",
       "      <td>2024-06-24</td>\n",
       "      <td>2,764.73</td>\n",
       "    </tr>\n",
       "  </tbody>\n",
       "</table>\n",
       "</div>"
      ],
      "text/plain": [
       "   localTradedAt closePrice\n",
       "58    2024-06-25   2,774.39\n",
       "59    2024-06-24   2,764.73"
      ]
     },
     "execution_count": 62,
     "metadata": {},
     "output_type": "execute_result"
    }
   ],
   "source": [
    "df = pd.DataFrame(data)\n",
    "df = df[['localTradedAt', 'closePrice']]\n",
    "df.tail(2)"
   ]
  },
  {
   "cell_type": "markdown",
   "id": "a5806ae9",
   "metadata": {
    "id": "a5806ae9"
   },
   "source": [
    "#### 4. 함수로 만들기"
   ]
  },
  {
   "cell_type": "code",
   "execution_count": 64,
   "id": "fcc4a262",
   "metadata": {},
   "outputs": [],
   "source": [
    "def stock_price(page=1, page_size=60):\n",
    "    url = f'https://m.stock.naver.com/api/index/KOSPI/price?pageSize={page_size}&page={page}'\n",
    "    response = requests.get(url)\n",
    "    data = response.json()\n",
    "    return pd.DataFrame(data)[['localTradedAt', 'closePrice']]"
   ]
  },
  {
   "cell_type": "code",
   "execution_count": 66,
   "id": "d603b00b-ddcb-46b5-ae67-fda5128f58e7",
   "metadata": {},
   "outputs": [
    {
     "data": {
      "text/html": [
       "<div>\n",
       "<style scoped>\n",
       "    .dataframe tbody tr th:only-of-type {\n",
       "        vertical-align: middle;\n",
       "    }\n",
       "\n",
       "    .dataframe tbody tr th {\n",
       "        vertical-align: top;\n",
       "    }\n",
       "\n",
       "    .dataframe thead th {\n",
       "        text-align: right;\n",
       "    }\n",
       "</style>\n",
       "<table border=\"1\" class=\"dataframe\">\n",
       "  <thead>\n",
       "    <tr style=\"text-align: right;\">\n",
       "      <th></th>\n",
       "      <th>localTradedAt</th>\n",
       "      <th>closePrice</th>\n",
       "    </tr>\n",
       "  </thead>\n",
       "  <tbody>\n",
       "    <tr>\n",
       "      <th>0</th>\n",
       "      <td>2024-09-02</td>\n",
       "      <td>2,681.00</td>\n",
       "    </tr>\n",
       "    <tr>\n",
       "      <th>1</th>\n",
       "      <td>2024-08-30</td>\n",
       "      <td>2,674.31</td>\n",
       "    </tr>\n",
       "    <tr>\n",
       "      <th>2</th>\n",
       "      <td>2024-08-29</td>\n",
       "      <td>2,662.28</td>\n",
       "    </tr>\n",
       "    <tr>\n",
       "      <th>3</th>\n",
       "      <td>2024-08-28</td>\n",
       "      <td>2,689.83</td>\n",
       "    </tr>\n",
       "    <tr>\n",
       "      <th>4</th>\n",
       "      <td>2024-08-27</td>\n",
       "      <td>2,689.25</td>\n",
       "    </tr>\n",
       "  </tbody>\n",
       "</table>\n",
       "</div>"
      ],
      "text/plain": [
       "  localTradedAt closePrice\n",
       "0    2024-09-02   2,681.00\n",
       "1    2024-08-30   2,674.31\n",
       "2    2024-08-29   2,662.28\n",
       "3    2024-08-28   2,689.83\n",
       "4    2024-08-27   2,689.25"
      ]
     },
     "execution_count": 66,
     "metadata": {},
     "output_type": "execute_result"
    }
   ],
   "source": [
    "stock_price(page=3, page_size=5)"
   ]
  },
  {
   "cell_type": "markdown",
   "id": "30b5340b",
   "metadata": {
    "id": "30b5340b"
   },
   "source": [
    "#### 5. 원달러 환율 데이터 수집 : 실습"
   ]
  },
  {
   "cell_type": "code",
   "execution_count": 68,
   "id": "46ee645e",
   "metadata": {},
   "outputs": [],
   "source": [
    "# 코스닥 데이터 수집\n",
    "# 원달러 환율 데이터 수집"
   ]
  },
  {
   "cell_type": "markdown",
   "id": "13e21944",
   "metadata": {
    "id": "13e21944"
   },
   "source": [
    "#### 6. 시각화"
   ]
  },
  {
   "cell_type": "code",
   "execution_count": null,
   "id": "3dd29f18",
   "metadata": {},
   "outputs": [],
   "source": []
  },
  {
   "cell_type": "markdown",
   "id": "c1c52868",
   "metadata": {
    "id": "c1c52868"
   },
   "source": [
    "#### 7. 데이터 스케일링\n",
    "- min max scaling\n",
    "\n",
    "\n",
    "- $z = \\frac{x_i - min(x)}{max(x) - min(x)} (0 \\leqq z \\leqq 1)$\n",
    "\n",
    "\n",
    "- latex syntax : `https://jjycjnmath.tistory.com/117`"
   ]
  },
  {
   "cell_type": "code",
   "execution_count": null,
   "id": "f7ba6e27",
   "metadata": {},
   "outputs": [],
   "source": []
  },
  {
   "cell_type": "markdown",
   "id": "3d862521",
   "metadata": {
    "id": "3d862521"
   },
   "source": [
    "#### 8. 상관관계 분석\n",
    "- 피어슨 상관계수(Pearson Correlation Coefficient)\n",
    "- 두 데이터 집합의 상관도를 분석할때 사용되는 지표\n",
    "- 상관계수의 해석\n",
    "    - -1에 가까울수록 서로 반대방향으로 움직임\n",
    "    - 1에 가까울수록 서로 같은방향으로 움직임\n",
    "    - 0에 가까울수록 두 데이터는 관계가 없음"
   ]
  },
  {
   "cell_type": "code",
   "execution_count": null,
   "id": "4e51967a",
   "metadata": {},
   "outputs": [],
   "source": []
  }
 ],
 "metadata": {
  "colab": {
   "name": "01_requests_naver_stock.ipynb",
   "provenance": []
  },
  "kernelspec": {
   "display_name": "Python 3 (ipykernel)",
   "language": "python",
   "name": "python3"
  },
  "language_info": {
   "codemirror_mode": {
    "name": "ipython",
    "version": 3
   },
   "file_extension": ".py",
   "mimetype": "text/x-python",
   "name": "python",
   "nbconvert_exporter": "python",
   "pygments_lexer": "ipython3",
   "version": "3.12.4"
  },
  "toc": {
   "base_numbering": 1,
   "nav_menu": {},
   "number_sections": false,
   "sideBar": true,
   "skip_h1_title": false,
   "title_cell": "Table of Contents",
   "title_sidebar": "Contents",
   "toc_cell": false,
   "toc_position": {},
   "toc_section_display": true,
   "toc_window_display": false
  }
 },
 "nbformat": 4,
 "nbformat_minor": 5
}
