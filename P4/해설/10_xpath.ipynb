{
 "cells": [
  {
   "cell_type": "markdown",
   "id": "1f47dd12",
   "metadata": {},
   "source": [
    "# xpath\n",
    "- html element 선택하는 방법\n",
    "- scrapy 에서는 기본적으로 xpath를 사용"
   ]
  },
  {
   "cell_type": "code",
   "execution_count": 1,
   "id": "c073b7af",
   "metadata": {
    "tags": []
   },
   "outputs": [],
   "source": [
    "# install scrapy\n",
    "# !pip install scrapy"
   ]
  },
  {
   "cell_type": "code",
   "execution_count": 2,
   "id": "06f4702a",
   "metadata": {
    "tags": []
   },
   "outputs": [],
   "source": [
    "import scrapy\n",
    "import requests\n",
    "from scrapy.http import TextResponse"
   ]
  },
  {
   "cell_type": "code",
   "execution_count": 3,
   "id": "5a06ca9f-ac2c-4b45-b940-bd79ab55c34d",
   "metadata": {
    "tags": []
   },
   "outputs": [
    {
     "data": {
      "text/plain": [
       "<Response [200]>"
      ]
     },
     "execution_count": 3,
     "metadata": {},
     "output_type": "execute_result"
    }
   ],
   "source": [
    "url = 'https://www.gmarket.co.kr/n/best'\n",
    "headers = {\n",
    "    'user-agent': 'Mozilla/5.0 (Macintosh; Intel Mac OS X 10_15_7) AppleWebKit/537.36 (KHTML, like Gecko) Chrome/128.0.0.0 Safari/537.36}',\n",
    "    'cookie': 'cguid=11692834805054007282000000; pguid=21692834805054007282010000; _ga=GA1.1.1161005941.1692834805; _fbp=fb.2.1719115721884.615731559340228277; ssguid=317193236808540050222000001; cto_bundle=pjB5CF8zYm9XbnNQbUlaOFUlMkJwN01pTCUyQnVWNFZRSFlnTmxOR2VxOE1ydWhKakh2QlJVUlkyVCUyQjA0M01RempyUEJ1YlpVTkVBM1dlbU1JcUZvZm1YeXRZb2NmUHBIOVltUDYycUdoMHIlMkZRdWFXNXJsYm84ZG5wZjgyaHgyNSUyQjExRVcxeGk1b1o0eSUyQmY3cDVyMGZsRHlISjMxUFRCUjRnNXQ4eEp6dzZQQSUyRmJhZ3NCYkxwbDgxNHlldVZQTnolMkZDaWc0UXBDYktuU2ZJVkM4eWs1S1BsJTJGOTVkS0RBJTNEJTNE; cosemkid=go16896720596496759; sguid=31726057665311003902000000; jaehuid=200011415; kwid=go16896720596496759; lnd_kwd=undefined; 9b5ac327653ddb71c4abb11d9b645ca3=390b294f1eed65b818f6d1177a701b03; __cf_bm=RJht6qdSBowPUckCBA.8MSclapX6zPgWdKJ45zHoeZ8-1726057665-1.0.1.1-iBv.lnRdht5mYraUyjQTQGyKTFX_gkRm.QDdI7frbEtvsuLX2evhbTXrCTyN6E.T7PD8S7I72g4LRJRSRH0FWA; _cfuvid=aaY9BfpM5rvN.3ZUD5nt7iAZpBbTJb6iGJxJavKf7Hg-1726057665717-0.0.1.1-604800000; cf_clearance=RLF2lhh6L6G7PsvSFHSNgUjEe7VatMd62vz_FbDU1Os-1726057666-1.2.1.1-kSWCVLrqgiAPLGdmunY_iEEqjiVoHxYlHntTUDTiUjAQkR2U4FQVHD7oDHcEsvVXqFpmje5Y_qaOao.8fRC60uEfwiM67nyEgGqAGyzgO8oQWS9Bqw.hCJxcQ_QYwKzSvctbIhhgWiHhrYDphFaeMlAN632EsdS09BAQPCqkj.W_LqLjpfYQoiuk4BrmFBhsJ5m.PYxeJnKqJlLMhiw9txZJKu5HYRHSsF5Yq60t7UeGxcWAODcKiBP70aSUkFUGsCJ687K7bWy55dldd3usxS1KkLnSLJVCovAaJY8yyn0AruYMzSDMPut0RFrgOhlA0.wMHr_2hw6QUpUBqZTzKIVgXTOzYa2YhbyxN4Jy4tL.qhJQrd5vGY9mz1wVNx2q.jHtOqLD3naE9lxYPb.xYQ; mont_fph=0c0a76079cf91dd7d71e471d136f51a4; __rtbh.uid=%7B%22eventType%22%3A%22uid%22%2C%22id%22%3A%22JYa1piIXSBFJ%2Bwd9V1ZVRV0KTONUIfPbTQCocsnUmGA%3D%22%7D; __rtbh.lid=%7B%22eventType%22%3A%22lid%22%2C%22id%22%3A%2241M6xWHcVjVApxjrxbBx%22%7D; _gcl_gs=2.1.k1$i1726057663; mtguid=Pioqzfndoxcjwugaiijpyexnyzr1726057668872; _gcl_aw=GCL.1726057667.CjwKCAjw_4S3BhAAEiwA_64YhmpZtC4YtP8z3n2z8-b7q756ag7NX-NxTQNJssex2sTSxTz8L53VixoCmroQAvD_BwE; 6361c5a58da80370cd396c77654e6153=0b6f9bacabed184de5db39e48df805aa; _ga_1BYVQK09SB=GS1.1.1726057664.7.1.1726057746.46.0.0; mont_fpt=1726057746701',\n",
    "    'accept-language': 'ko-KR,ko;q=0.9,en-US;q=0.8,en;q=0.7',\n",
    "    'sec-ch-ua-platform': 'macOS',\n",
    "}    \n",
    "response = requests.get(url, headers=headers)\n",
    "response"
   ]
  },
  {
   "cell_type": "code",
   "execution_count": 4,
   "id": "4cf4f878-9d18-43c9-b084-11e79ee51edc",
   "metadata": {
    "tags": []
   },
   "outputs": [
    {
     "data": {
      "text/plain": [
       "<200 https://www.gmarket.co.kr/n/best>"
      ]
     },
     "execution_count": 4,
     "metadata": {},
     "output_type": "execute_result"
    }
   ],
   "source": [
    "text_response = TextResponse(\n",
    "    response.url, body=response.text, encoding='utf-8')\n",
    "text_response"
   ]
  },
  {
   "cell_type": "code",
   "execution_count": 5,
   "id": "debbe305-94d2-4807-a9ea-1765231439b1",
   "metadata": {
    "tags": []
   },
   "outputs": [
    {
     "data": {
      "text/plain": [
       "'<!DOCTYPE html><html lang=\"ko\" class=\"no-js\"><head><meta name=\"viewport\" content=\"width=980\"/><meta charSet=\"utf-8\"/><meta http-equiv=\"X-UA-Compatible\" content=\"ie=edge\"/><meta name=\"description\" content=\"인터넷쇼핑,오픈마켓,패션/뷰티,디지털,식품/유아,스포츠/자동차,생활용품,도서/DVD,여행/항공권,e쿠폰/티켓,만화/게임,공동구매,경매,중고,글로벌쇼핑,브랜드샵,베스트셀러,방문쇼핑몰,G스탬프,할인쿠폰,동영상,이벤트 등 G마켓\"/><meta name=\"keywords\" content=\"베스트100,베스트셀러,경매,할인쿠폰,베스트셀러,공동구매,컴퓨터/핸드폰,에어컨/TV/디카,MP3/게임,패션/명품/브랜드,여성의류/속옷,남성의류/정장/빅사이즈,분유/기저귀/식품/생리대/임부복,유아동/장난감,쌀/과일/한우/생선,건강식품/음료,화장품/'"
      ]
     },
     "execution_count": 5,
     "metadata": {},
     "output_type": "execute_result"
    }
   ],
   "source": [
    "text_response.text[:500]"
   ]
  },
  {
   "cell_type": "markdown",
   "id": "15122b5d-181d-430c-84d3-369d56fdb165",
   "metadata": {},
   "source": [
    "## 1-1. xpath Selector\n",
    "- `//*[@id=\"container\"]/div[2]/ul/li[1]`\n",
    "    - `//` : 최상위 엘리먼트\n",
    "    - `*` : 모든 하위 엘리먼트 : css selector의 한칸띄우기와 같다.\n",
    "    - `[@id=\"value\"]` : 속성값 선택\n",
    "    - `/` : 한단계 하위 엘리먼트 : css selector의 >와 같다.\n",
    "    - `[n]` : nth-child(n)"
   ]
  },
  {
   "cell_type": "code",
   "execution_count": 6,
   "id": "d8cc595f",
   "metadata": {
    "tags": []
   },
   "outputs": [
    {
     "data": {
      "text/plain": [
       "[<Selector xpath='//*[@id=\"container\"]/div[2]/ul/li' data='<li class=\"list-item\"><a href=\"http:/...'>,\n",
       " <Selector xpath='//*[@id=\"container\"]/div[2]/ul/li' data='<li class=\"list-item\"><a href=\"http:/...'>]"
      ]
     },
     "execution_count": 6,
     "metadata": {},
     "output_type": "execute_result"
    }
   ],
   "source": [
    "items = text_response.xpath('//*[@id=\"container\"]/div[2]/ul/li')\n",
    "items[:2]"
   ]
  },
  {
   "cell_type": "markdown",
   "id": "ff26f7f4-72ef-4a35-93d3-c32d7bc517ff",
   "metadata": {},
   "source": [
    "## 1-2. Printing Titles Using Loops"
   ]
  },
  {
   "cell_type": "code",
   "execution_count": 7,
   "id": "b4ec9235-4280-4474-992b-f92265291faa",
   "metadata": {
    "tags": []
   },
   "outputs": [
    {
     "data": {
      "text/plain": [
       "'(추석전배송) 9/12폴햄 단하루 남여공용) 레이어드 반팔티 2팩 WWW (LIVE방송 30%쿠폰)'"
      ]
     },
     "execution_count": 7,
     "metadata": {},
     "output_type": "execute_result"
    }
   ],
   "source": [
    "# //*[@id=\"container\"]/div[2]/ul/li[1]/a/div[2]/p\n",
    "item = items[0]\n",
    "item.xpath('a/div[2]/p/text()').extract()[0]"
   ]
  },
  {
   "cell_type": "code",
   "execution_count": 8,
   "id": "b0cf8e2a-6b6a-40c7-85f5-f877d75aa250",
   "metadata": {
    "tags": []
   },
   "outputs": [
    {
     "name": "stdout",
     "output_type": "stream",
     "text": [
      "(추석전배송) 9/12폴햄 단하루 남여공용) 레이어드 반팔티 2팩 WWW (LIVE방송 30%쿠폰)\n",
      "초코하임 142g 4팩+화이트하임 142g 4팩\n"
     ]
    }
   ],
   "source": [
    "for item in items[:2]:\n",
    "    title = item.xpath('a/div[2]/p/text()').extract()[0]\n",
    "    print(title)"
   ]
  },
  {
   "cell_type": "markdown",
   "id": "ccfe862c-34ec-43aa-9f0f-8d581ae54f7d",
   "metadata": {},
   "source": [
    "## 1-3. Printing Titles Without Loops"
   ]
  },
  {
   "cell_type": "code",
   "execution_count": 9,
   "id": "d4460e6f-8509-4299-8bdf-d66c1f97e6e7",
   "metadata": {
    "tags": []
   },
   "outputs": [
    {
     "data": {
      "text/plain": [
       "(200,\n",
       " ['(추석전배송) 9/12폴햄 단하루 남여공용) 레이어드 반팔티 2팩 WWW (LIVE방송 30%쿠폰)',\n",
       "  '초코하임 142g 4팩+화이트하임 142g 4팩'])"
      ]
     },
     "execution_count": 9,
     "metadata": {},
     "output_type": "execute_result"
    }
   ],
   "source": [
    "# 반복문 없이 출력\n",
    "titles = text_response.xpath(\n",
    "    '//*[@id=\"container\"]/div[2]/ul/li/a/div[2]/p/text()').extract()\n",
    "len(titles), titles[:2]"
   ]
  }
 ],
 "metadata": {
  "kernelspec": {
   "display_name": "Python 3 (ipykernel)",
   "language": "python",
   "name": "python3"
  },
  "language_info": {
   "codemirror_mode": {
    "name": "ipython",
    "version": 3
   },
   "file_extension": ".py",
   "mimetype": "text/x-python",
   "name": "python",
   "nbconvert_exporter": "python",
   "pygments_lexer": "ipython3",
   "version": "3.11.3"
  },
  "toc": {
   "base_numbering": 1,
   "nav_menu": {},
   "number_sections": false,
   "sideBar": true,
   "skip_h1_title": false,
   "title_cell": "Table of Contents",
   "title_sidebar": "Contents",
   "toc_cell": false,
   "toc_position": {},
   "toc_section_display": true,
   "toc_window_display": false
  }
 },
 "nbformat": 4,
 "nbformat_minor": 5
}
