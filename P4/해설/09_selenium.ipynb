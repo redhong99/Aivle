{
 "cells": [
  {
   "cell_type": "markdown",
   "id": "03fff3b4",
   "metadata": {},
   "source": [
    "### selenium\n",
    "- `https://www.selenium.dev`\n",
    "- 자동화를 목적으로 만들어진 다양한 브라우져와 언어를 지원하는 라이브러리\n",
    "- 크롬 브라우져 설치\n",
    "    - 크롬 브라우져 드라이버 다운로드 (크롬 브라우져와 같은 버전)\n",
    "    - 다운로드한 드라이버 압축 해제\n",
    "    - chromedriver, chromedriver.exe 생성\n",
    "    - windows : 주피터 노트북 파일과 동일한 디렉토리에 chromedriver.exe 파일 업로드\n",
    "    - mac : sudo cp ~/Download/chromedirver /usr/local/bin"
   ]
  },
  {
   "cell_type": "code",
   "execution_count": 1,
   "id": "2981cd32",
   "metadata": {},
   "outputs": [],
   "source": [
    "import time\n",
    "import pandas as pd\n",
    "from selenium import webdriver\n",
    "from selenium.webdriver.common.by import By"
   ]
  },
  {
   "cell_type": "code",
   "execution_count": 2,
   "id": "13b07de6",
   "metadata": {},
   "outputs": [],
   "source": [
    "driver = webdriver.Chrome()"
   ]
  },
  {
   "cell_type": "code",
   "execution_count": 3,
   "id": "a786b65d",
   "metadata": {},
   "outputs": [],
   "source": [
    "# 페이지 이동\n",
    "driver.get('https://daum.net')"
   ]
  },
  {
   "cell_type": "code",
   "execution_count": 4,
   "id": "9abf03ba",
   "metadata": {},
   "outputs": [],
   "source": [
    "# 브라우져 사이즈 조절\n",
    "driver.set_window_size(200, 600)"
   ]
  },
  {
   "cell_type": "code",
   "execution_count": 5,
   "id": "5ae62f43",
   "metadata": {},
   "outputs": [],
   "source": [
    "# 브라우져 스크롤 조절\n",
    "driver.execute_script('window.scrollTo(200, 300);')"
   ]
  },
  {
   "cell_type": "code",
   "execution_count": 6,
   "id": "c5c67542",
   "metadata": {},
   "outputs": [],
   "source": [
    "# alert 다루기\n",
    "driver.execute_script('alert('hello selenium!!!');')"
   ]
  },
  {
   "cell_type": "code",
   "execution_count": 7,
   "id": "ba153669",
   "metadata": {},
   "outputs": [],
   "source": [
    "alert = driver.switch_to.alert\n",
    "alert.accept()"
   ]
  },
  {
   "cell_type": "code",
   "execution_count": 8,
   "id": "15b83780",
   "metadata": {},
   "outputs": [],
   "source": [
    "# 문자열 입력\n",
    "driver.find_element(By.CSS_SELECTOR, '#q').send_keys('셀레니움')"
   ]
  },
  {
   "cell_type": "code",
   "execution_count": 9,
   "id": "29abf4ff",
   "metadata": {},
   "outputs": [],
   "source": [
    "# 검색 버튼 클릭\n",
    "driver.find_element(By.CSS_SELECTOR, '.btn_ksearch').click()"
   ]
  },
  {
   "cell_type": "code",
   "execution_count": 10,
   "id": "dfa3c68a",
   "metadata": {},
   "outputs": [],
   "source": [
    "# 브라우져 종료\n",
    "driver.quit()"
   ]
  },
  {
   "cell_type": "markdown",
   "id": "c4c13a78",
   "metadata": {},
   "source": [
    "### 텍스트 데이터 가져오기\n",
    "- TED 사이트 : `https://www.ted.com`"
   ]
  },
  {
   "cell_type": "code",
   "execution_count": 11,
   "id": "0eeaf4c8",
   "metadata": {},
   "outputs": [],
   "source": [
    "# 브라우져를 실행하여 테드 사이트 열기\n",
    "driver = webdriver.Chrome()\n",
    "driver.get('https://www.ted.com/talks')"
   ]
  },
  {
   "cell_type": "code",
   "execution_count": 13,
   "id": "6687fea3-bcd0-433a-8498-bd0e05630d82",
   "metadata": {
    "tags": []
   },
   "outputs": [],
   "source": [
    "# 팝업 레이아웃 제거 : x 버튼 클릭\n",
    "time.sleep(3)\n",
    "driver.find_element(By.CSS_SELECTOR, '#close-pc-btn-handler').click()"
   ]
  },
  {
   "cell_type": "code",
   "execution_count": 14,
   "id": "1123fab3",
   "metadata": {},
   "outputs": [
    {
     "data": {
      "text/plain": [
       "'TED Talks: Discover ideas worth spreading'"
      ]
     },
     "execution_count": 14,
     "metadata": {},
     "output_type": "execute_result"
    }
   ],
   "source": [
    "# CSS Selector를 이용하여 HTML 태그와 태그 사이의 text 데이터 가져오기\n",
    "driver.find_element(By.CSS_SELECTOR, 'h2.text-textPrimary-onLight').text"
   ]
  },
  {
   "cell_type": "code",
   "execution_count": 15,
   "id": "eaed94c4",
   "metadata": {},
   "outputs": [
    {
     "data": {
      "text/plain": [
       "24"
      ]
     },
     "execution_count": 15,
     "metadata": {},
     "output_type": "execute_result"
    }
   ],
   "source": [
    "# 제목 데이터 가져오기\n",
    "selector = '[test-id='Talk Grid Default'] > div > div:nth-child(2) \\\n",
    "> div > div'\n",
    "contents = driver.find_elements(By.CSS_SELECTOR, selector)\n",
    "len(contents)"
   ]
  },
  {
   "cell_type": "code",
   "execution_count": 16,
   "id": "33b93c0a",
   "metadata": {},
   "outputs": [
    {
     "data": {
      "text/plain": [
       "'To end extreme poverty, give cash — not advice'"
      ]
     },
     "execution_count": 16,
     "metadata": {},
     "output_type": "execute_result"
    }
   ],
   "source": [
    "# 가장 처음 텍스트 데이터 가져오기\n",
    "selector = 'span.text-textPrimary-onLight'\n",
    "contents[0].find_element(By.CSS_SELECTOR, selector).text"
   ]
  },
  {
   "cell_type": "code",
   "execution_count": 17,
   "id": "fe2234dc",
   "metadata": {},
   "outputs": [
    {
     "data": {
      "text/plain": [
       "(['To end extreme poverty, give cash — not advice',\n",
       "  'The arrest of Telegram CEO Pavel Durov — and why you should care',\n",
       "  'Can math help repair democracy?'],\n",
       " 24)"
      ]
     },
     "execution_count": 17,
     "metadata": {},
     "output_type": "execute_result"
    }
   ],
   "source": [
    "# 전체 제목 데이터 가져오기\n",
    "titles = []\n",
    "selector = 'span.text-textPrimary-onLight'\n",
    "for content in contents:\n",
    "    title = content.find_element(By.CSS_SELECTOR, selector).text\n",
    "    titles.append(title)\n",
    "titles[:3], len(titles)"
   ]
  },
  {
   "cell_type": "code",
   "execution_count": 18,
   "id": "815ca884-e46b-4c8f-b9bd-3d35b8baa3b5",
   "metadata": {
    "tags": []
   },
   "outputs": [
    {
     "data": {
      "text/plain": [
       "'https://www.ted.com/talks/rory_stewart_to_end_extreme_poverty_give_cash_not_advice'"
      ]
     },
     "execution_count": 18,
     "metadata": {},
     "output_type": "execute_result"
    }
   ],
   "source": [
    "contents[0].find_element(By.CSS_SELECTOR, 'a').get_attribute('href')"
   ]
  },
  {
   "cell_type": "code",
   "execution_count": 19,
   "id": "ada149b0",
   "metadata": {},
   "outputs": [
    {
     "data": {
      "text/plain": [
       "(['https://www.ted.com/talks/rory_stewart_to_end_extreme_poverty_give_cash_not_advice',\n",
       "  'https://www.ted.com/talks/eli_pariser_the_arrest_of_telegram_ceo_pavel_durov_and_why_you_should_care',\n",
       "  'https://www.ted.com/talks/sam_wang_can_math_help_repair_democracy'],\n",
       " 24)"
      ]
     },
     "execution_count": 19,
     "metadata": {},
     "output_type": "execute_result"
    }
   ],
   "source": [
    "# 링크 데이터 크롤링 (속성(attribute)값 가져오는 방법)\n",
    "links = []\n",
    "for content in contents:\n",
    "    link = content.find_element(By.CSS_SELECTOR, 'a').get_attribute('href')\n",
    "    links.append(link)\n",
    "links[:3], len(links)"
   ]
  },
  {
   "cell_type": "code",
   "execution_count": 20,
   "id": "d42d4663-e85e-4bf1-b0dc-d395220bfe0c",
   "metadata": {
    "tags": []
   },
   "outputs": [
    {
     "data": {
      "text/html": [
       "<div>\n",
       "<style scoped>\n",
       "    .dataframe tbody tr th:only-of-type {\n",
       "        vertical-align: middle;\n",
       "    }\n",
       "\n",
       "    .dataframe tbody tr th {\n",
       "        vertical-align: top;\n",
       "    }\n",
       "\n",
       "    .dataframe thead th {\n",
       "        text-align: right;\n",
       "    }\n",
       "</style>\n",
       "<table border=\"1\" class=\"dataframe\">\n",
       "  <thead>\n",
       "    <tr style=\"text-align: right;\">\n",
       "      <th></th>\n",
       "      <th>title</th>\n",
       "      <th>link</th>\n",
       "    </tr>\n",
       "  </thead>\n",
       "  <tbody>\n",
       "    <tr>\n",
       "      <th>0</th>\n",
       "      <td>To end extreme poverty, give cash — not advice</td>\n",
       "      <td>https://www.ted.com/talks/rory_stewart_to_end_...</td>\n",
       "    </tr>\n",
       "    <tr>\n",
       "      <th>1</th>\n",
       "      <td>The arrest of Telegram CEO Pavel Durov — and w...</td>\n",
       "      <td>https://www.ted.com/talks/eli_pariser_the_arre...</td>\n",
       "    </tr>\n",
       "    <tr>\n",
       "      <th>2</th>\n",
       "      <td>Can math help repair democracy?</td>\n",
       "      <td>https://www.ted.com/talks/sam_wang_can_math_he...</td>\n",
       "    </tr>\n",
       "  </tbody>\n",
       "</table>\n",
       "</div>"
      ],
      "text/plain": [
       "                                               title  \\\n",
       "0     To end extreme poverty, give cash — not advice   \n",
       "1  The arrest of Telegram CEO Pavel Durov — and w...   \n",
       "2                    Can math help repair democracy?   \n",
       "\n",
       "                                                link  \n",
       "0  https://www.ted.com/talks/rory_stewart_to_end_...  \n",
       "1  https://www.ted.com/talks/eli_pariser_the_arre...  \n",
       "2  https://www.ted.com/talks/sam_wang_can_math_he...  "
      ]
     },
     "execution_count": 20,
     "metadata": {},
     "output_type": "execute_result"
    }
   ],
   "source": [
    "df = pd.DataFrame({'title': titles, 'link': links})\n",
    "df.head(3)"
   ]
  },
  {
   "cell_type": "code",
   "execution_count": 21,
   "id": "8da51a4e",
   "metadata": {},
   "outputs": [],
   "source": [
    "driver.quit()"
   ]
  },
  {
   "cell_type": "markdown",
   "id": "152eda00",
   "metadata": {},
   "source": [
    "### 3. Headless\n",
    "- 브라우져를 화면에 띄우지 않고 메모리상에서만 올려서 크롤링하는 방법 \n",
    "- window가 지원되지 않는 환경에서 사용이 가능\n",
    "- chrome version 60.0.0.0 이상부터 지원 합니다."
   ]
  },
  {
   "cell_type": "code",
   "execution_count": 22,
   "id": "54a05161",
   "metadata": {},
   "outputs": [
    {
     "name": "stdout",
     "output_type": "stream",
     "text": [
      "128.0.6613.138\n"
     ]
    }
   ],
   "source": [
    "# 현재 사용중인 크롬 버전 확인\n",
    "driver = webdriver.Chrome()\n",
    "version = driver.capabilities['browserVersion']\n",
    "print(version)\n",
    "driver.quit()"
   ]
  },
  {
   "cell_type": "code",
   "execution_count": 23,
   "id": "06950205",
   "metadata": {},
   "outputs": [
    {
     "name": "stdout",
     "output_type": "stream",
     "text": [
      "TED: Ideas change everything\n",
      "TED Talks: Discover ideas worth spreading\n"
     ]
    }
   ],
   "source": [
    "# headless 사용\n",
    "options = webdriver.ChromeOptions()\n",
    "options.add_argument('headless')\n",
    "driver = webdriver.Chrome(options=options)\n",
    "driver.get('https://www.ted.com/talks')\n",
    "text = driver.title\n",
    "selector = 'h2.text-textPrimary-onLight'\n",
    "sub_title = driver.find_element(By.CSS_SELECTOR, selector).text\n",
    "driver.quit()\n",
    "print(text, sub_title, sep='\\n')"
   ]
  }
 ],
 "metadata": {
  "kernelspec": {
   "display_name": "Python 3 (ipykernel)",
   "language": "python",
   "name": "python3"
  },
  "language_info": {
   "codemirror_mode": {
    "name": "ipython",
    "version": 3
   },
   "file_extension": ".py",
   "mimetype": "text/x-python",
   "name": "python",
   "nbconvert_exporter": "python",
   "pygments_lexer": "ipython3",
   "version": "3.11.3"
  },
  "toc": {
   "base_numbering": 1,
   "nav_menu": {},
   "number_sections": false,
   "sideBar": true,
   "skip_h1_title": false,
   "title_cell": "Table of Contents",
   "title_sidebar": "Contents",
   "toc_cell": false,
   "toc_position": {},
   "toc_section_display": true,
   "toc_window_display": false
  }
 },
 "nbformat": 4,
 "nbformat_minor": 5
}
